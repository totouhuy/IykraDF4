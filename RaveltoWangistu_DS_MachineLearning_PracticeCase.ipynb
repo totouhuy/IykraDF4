{
 "cells": [
  {
   "cell_type": "markdown",
   "metadata": {},
   "source": [
    "# SUPERMARKET DATA : PREDICT RATING"
   ]
  },
  {
   "cell_type": "markdown",
   "metadata": {},
   "source": [
    "**Context**\n",
    "<br>The growth of supermarkets in most populated cities are increasing and market competitions are also high. The dataset is one of the historical sales of supermarket company which has recorded in 3 different branches for 3 months data. Predictive data analytics methods are easy to apply with this dataset.</br>\n",
    "\n",
    "<br> Datasets can be access at: https://www.kaggle.com/mahmoudeletrby/supermarket </br>\n",
    "\n",
    "Columns in this dataset are:"
   ]
  },
  {
   "cell_type": "markdown",
   "metadata": {},
   "source": [
    "<table>\n",
    "<thead>\n",
    "<tr><th>Columns</th><th>Description</th></tr>\n",
    "</thead>\n",
    "<tbody>\n",
    "<tr><td>Invoice id</td><td>Computer generated sales slip invoice identification number</td></tr>\n",
    "<tr><td>Branch</td><td>Branch of supercenter (3 branches are available identified by A, B and C).</td></tr>\n",
    "<tr><td>City</td><td>Location of supercenters</td></tr>\n",
    "<tr><td>Customer type</td><td>Type of customers, recorded by Members for customers using member card and Normal for without member card.</td></tr>\n",
    "<tr><td>Gender</td><td>Gender type of customer</td></tr>\n",
    "<tr><td>type</td><td>General item categorization groups - Electronic accessories, Fashion accessories, Food and beverages, Health and beauty, Home and lifestyle, Sports and travel</td></tr>\n",
    "<tr><td>Unit_price</td><td>Price of each product in dollar </td></tr>\n",
    "<tr><td>Date</td><td>Date of purchase (Record available from January 2019 to March 2019)</td></tr>\n",
    "<tr><td>Time</td><td>Purchase time (10am to 9pm)</td></tr>\n",
    "<tr><td>Payment</td><td>Payment used by customer for purchase (3 methods are available – Cash, Credit card and Ewallet)</td></tr>\n",
    "<tr><td>Cost</td><td>Cost of goods sold</td></tr>\n",
    "<tr><td>Gross income</td><td>Gross income</td></tr>\n",
    "<tr><td>Rating</td><td>Customer stratification rating on their overall shopping experience (On a scale of 1 to 10)</td></tr>\n",
    "</tbody>\n",
    "</table>"
   ]
  },
  {
   "cell_type": "code",
   "execution_count": 234,
   "metadata": {},
   "outputs": [],
   "source": [
    "import pandas as pd\n",
    "from pandas import ExcelWriter #to read excel file\n",
    "from pandas import ExcelFile\n",
    "import numpy as np \n",
    "import matplotlib.pyplot as plt\n",
    "import seaborn as sns"
   ]
  },
  {
   "cell_type": "code",
   "execution_count": 235,
   "metadata": {},
   "outputs": [],
   "source": [
    "df = pd.read_excel('/Users/raveltowangistu/Desktop/Iykra/Week 4/Machine Learning/supermarket.xls')"
   ]
  },
  {
   "cell_type": "markdown",
   "metadata": {},
   "source": [
    "## Data Understanding"
   ]
  },
  {
   "cell_type": "markdown",
   "metadata": {},
   "source": [
    "Before analyze data, we need to understand about the data first. We will use **df.head( ) , df.shape, df.describe( ), and df.isnull.sum( ) to understand data**. Also, we will check data per column to know if there is any poor data inside the columns."
   ]
  },
  {
   "cell_type": "code",
   "execution_count": 236,
   "metadata": {},
   "outputs": [
    {
     "data": {
      "text/plain": [
       "(1000, 14)"
      ]
     },
     "execution_count": 236,
     "metadata": {},
     "output_type": "execute_result"
    }
   ],
   "source": [
    "df.shape"
   ]
  },
  {
   "cell_type": "code",
   "execution_count": 237,
   "metadata": {},
   "outputs": [
    {
     "data": {
      "text/html": [
       "<div>\n",
       "<style scoped>\n",
       "    .dataframe tbody tr th:only-of-type {\n",
       "        vertical-align: middle;\n",
       "    }\n",
       "\n",
       "    .dataframe tbody tr th {\n",
       "        vertical-align: top;\n",
       "    }\n",
       "\n",
       "    .dataframe thead th {\n",
       "        text-align: right;\n",
       "    }\n",
       "</style>\n",
       "<table border=\"1\" class=\"dataframe\">\n",
       "  <thead>\n",
       "    <tr style=\"text-align: right;\">\n",
       "      <th></th>\n",
       "      <th>invoiceID</th>\n",
       "      <th>branch</th>\n",
       "      <th>city</th>\n",
       "      <th>cust_type</th>\n",
       "      <th>gender</th>\n",
       "      <th>type</th>\n",
       "      <th>unit_price</th>\n",
       "      <th>quantity</th>\n",
       "      <th>date</th>\n",
       "      <th>time</th>\n",
       "      <th>payment</th>\n",
       "      <th>cost</th>\n",
       "      <th>gross income</th>\n",
       "      <th>rating</th>\n",
       "    </tr>\n",
       "  </thead>\n",
       "  <tbody>\n",
       "    <tr>\n",
       "      <td>0</td>\n",
       "      <td>101-17-6199</td>\n",
       "      <td>A</td>\n",
       "      <td>Cairo</td>\n",
       "      <td>Normal</td>\n",
       "      <td>Male</td>\n",
       "      <td>Food and beverages</td>\n",
       "      <td>45.79</td>\n",
       "      <td>7</td>\n",
       "      <td>2019-03-13</td>\n",
       "      <td>19:44:00</td>\n",
       "      <td>Credit card</td>\n",
       "      <td>320.53</td>\n",
       "      <td>16.0265</td>\n",
       "      <td>7.0</td>\n",
       "    </tr>\n",
       "    <tr>\n",
       "      <td>1</td>\n",
       "      <td>101-81-4070</td>\n",
       "      <td>C</td>\n",
       "      <td>Alexandria</td>\n",
       "      <td>Member</td>\n",
       "      <td>Female</td>\n",
       "      <td>Health and beauty</td>\n",
       "      <td>62.82</td>\n",
       "      <td>2</td>\n",
       "      <td>2019-01-17</td>\n",
       "      <td>12:36:00</td>\n",
       "      <td>eWallet</td>\n",
       "      <td>125.64</td>\n",
       "      <td>6.2820</td>\n",
       "      <td>4.9</td>\n",
       "    </tr>\n",
       "  </tbody>\n",
       "</table>\n",
       "</div>"
      ],
      "text/plain": [
       "     invoiceID branch        city cust_type  gender                type  \\\n",
       "0  101-17-6199      A       Cairo    Normal    Male  Food and beverages   \n",
       "1  101-81-4070      C  Alexandria    Member  Female   Health and beauty   \n",
       "\n",
       "   unit_price  quantity       date      time      payment    cost  \\\n",
       "0       45.79         7 2019-03-13  19:44:00  Credit card  320.53   \n",
       "1       62.82         2 2019-01-17  12:36:00      eWallet  125.64   \n",
       "\n",
       "   gross income  rating  \n",
       "0       16.0265     7.0  \n",
       "1        6.2820     4.9  "
      ]
     },
     "execution_count": 237,
     "metadata": {},
     "output_type": "execute_result"
    }
   ],
   "source": [
    "df.head(2)"
   ]
  },
  {
   "cell_type": "code",
   "execution_count": 238,
   "metadata": {},
   "outputs": [
    {
     "name": "stdout",
     "output_type": "stream",
     "text": [
      "<class 'pandas.core.frame.DataFrame'>\n",
      "RangeIndex: 1000 entries, 0 to 999\n",
      "Data columns (total 14 columns):\n",
      "invoiceID       1000 non-null object\n",
      "branch          1000 non-null object\n",
      "city            1000 non-null object\n",
      "cust_type       1000 non-null object\n",
      "gender          1000 non-null object\n",
      "type            1000 non-null object\n",
      "unit_price      1000 non-null float64\n",
      "quantity        1000 non-null int64\n",
      "date            1000 non-null datetime64[ns]\n",
      "time            1000 non-null object\n",
      "payment         1000 non-null object\n",
      "cost            1000 non-null float64\n",
      "gross income    1000 non-null float64\n",
      "rating          1000 non-null float64\n",
      "dtypes: datetime64[ns](1), float64(4), int64(1), object(8)\n",
      "memory usage: 109.5+ KB\n"
     ]
    }
   ],
   "source": [
    "df.info()"
   ]
  },
  {
   "cell_type": "code",
   "execution_count": 239,
   "metadata": {},
   "outputs": [
    {
     "data": {
      "text/plain": [
       "invoiceID       0\n",
       "branch          0\n",
       "city            0\n",
       "cust_type       0\n",
       "gender          0\n",
       "type            0\n",
       "unit_price      0\n",
       "quantity        0\n",
       "date            0\n",
       "time            0\n",
       "payment         0\n",
       "cost            0\n",
       "gross income    0\n",
       "rating          0\n",
       "dtype: int64"
      ]
     },
     "execution_count": 239,
     "metadata": {},
     "output_type": "execute_result"
    }
   ],
   "source": [
    "df.isnull().sum()"
   ]
  },
  {
   "cell_type": "code",
   "execution_count": 240,
   "metadata": {},
   "outputs": [
    {
     "data": {
      "text/html": [
       "<div>\n",
       "<style scoped>\n",
       "    .dataframe tbody tr th:only-of-type {\n",
       "        vertical-align: middle;\n",
       "    }\n",
       "\n",
       "    .dataframe tbody tr th {\n",
       "        vertical-align: top;\n",
       "    }\n",
       "\n",
       "    .dataframe thead th {\n",
       "        text-align: right;\n",
       "    }\n",
       "</style>\n",
       "<table border=\"1\" class=\"dataframe\">\n",
       "  <thead>\n",
       "    <tr style=\"text-align: right;\">\n",
       "      <th></th>\n",
       "      <th>unit_price</th>\n",
       "      <th>quantity</th>\n",
       "      <th>cost</th>\n",
       "      <th>gross income</th>\n",
       "      <th>rating</th>\n",
       "    </tr>\n",
       "  </thead>\n",
       "  <tbody>\n",
       "    <tr>\n",
       "      <td>count</td>\n",
       "      <td>1000.000000</td>\n",
       "      <td>1000.000000</td>\n",
       "      <td>1000.00000</td>\n",
       "      <td>1000.000000</td>\n",
       "      <td>1000.00000</td>\n",
       "    </tr>\n",
       "    <tr>\n",
       "      <td>mean</td>\n",
       "      <td>55.672130</td>\n",
       "      <td>5.510000</td>\n",
       "      <td>307.58738</td>\n",
       "      <td>15.379369</td>\n",
       "      <td>6.97270</td>\n",
       "    </tr>\n",
       "    <tr>\n",
       "      <td>std</td>\n",
       "      <td>26.494628</td>\n",
       "      <td>2.923431</td>\n",
       "      <td>234.17651</td>\n",
       "      <td>11.708825</td>\n",
       "      <td>1.71858</td>\n",
       "    </tr>\n",
       "    <tr>\n",
       "      <td>min</td>\n",
       "      <td>10.080000</td>\n",
       "      <td>1.000000</td>\n",
       "      <td>10.17000</td>\n",
       "      <td>0.508500</td>\n",
       "      <td>4.00000</td>\n",
       "    </tr>\n",
       "    <tr>\n",
       "      <td>25%</td>\n",
       "      <td>32.875000</td>\n",
       "      <td>3.000000</td>\n",
       "      <td>118.49750</td>\n",
       "      <td>5.924875</td>\n",
       "      <td>5.50000</td>\n",
       "    </tr>\n",
       "    <tr>\n",
       "      <td>50%</td>\n",
       "      <td>55.230000</td>\n",
       "      <td>5.000000</td>\n",
       "      <td>241.76000</td>\n",
       "      <td>12.088000</td>\n",
       "      <td>7.00000</td>\n",
       "    </tr>\n",
       "    <tr>\n",
       "      <td>75%</td>\n",
       "      <td>77.935000</td>\n",
       "      <td>8.000000</td>\n",
       "      <td>448.90500</td>\n",
       "      <td>22.445250</td>\n",
       "      <td>8.50000</td>\n",
       "    </tr>\n",
       "    <tr>\n",
       "      <td>max</td>\n",
       "      <td>99.960000</td>\n",
       "      <td>10.000000</td>\n",
       "      <td>993.00000</td>\n",
       "      <td>49.650000</td>\n",
       "      <td>10.00000</td>\n",
       "    </tr>\n",
       "  </tbody>\n",
       "</table>\n",
       "</div>"
      ],
      "text/plain": [
       "        unit_price     quantity        cost  gross income      rating\n",
       "count  1000.000000  1000.000000  1000.00000   1000.000000  1000.00000\n",
       "mean     55.672130     5.510000   307.58738     15.379369     6.97270\n",
       "std      26.494628     2.923431   234.17651     11.708825     1.71858\n",
       "min      10.080000     1.000000    10.17000      0.508500     4.00000\n",
       "25%      32.875000     3.000000   118.49750      5.924875     5.50000\n",
       "50%      55.230000     5.000000   241.76000     12.088000     7.00000\n",
       "75%      77.935000     8.000000   448.90500     22.445250     8.50000\n",
       "max      99.960000    10.000000   993.00000     49.650000    10.00000"
      ]
     },
     "execution_count": 240,
     "metadata": {},
     "output_type": "execute_result"
    }
   ],
   "source": [
    "df.describe()"
   ]
  },
  {
   "cell_type": "markdown",
   "metadata": {},
   "source": [
    "Based on data that we found, we can know that there is **1000 row and 14 column** in datasets. Also, there is no null data inside here. Actually most of the data are really good and doesn't need alot of cleaning processing."
   ]
  },
  {
   "cell_type": "markdown",
   "metadata": {},
   "source": [
    "## Data Cleaning"
   ]
  },
  {
   "cell_type": "markdown",
   "metadata": {},
   "source": [
    "Since most of the data are categorical, in order to do **regression**, we need to use dummies to make it acceptable to use in data. For dummies with binominal, we can use directly dummies in the variable. "
   ]
  },
  {
   "cell_type": "code",
   "execution_count": 241,
   "metadata": {},
   "outputs": [],
   "source": [
    "#Create dummies for customer type and gender.\n",
    "df['cust_type'] = pd.get_dummies(df['cust_type'])\n",
    "df['gender'] = pd.get_dummies(df['gender'])"
   ]
  },
  {
   "cell_type": "code",
   "execution_count": 242,
   "metadata": {},
   "outputs": [
    {
     "data": {
      "text/html": [
       "<div>\n",
       "<style scoped>\n",
       "    .dataframe tbody tr th:only-of-type {\n",
       "        vertical-align: middle;\n",
       "    }\n",
       "\n",
       "    .dataframe tbody tr th {\n",
       "        vertical-align: top;\n",
       "    }\n",
       "\n",
       "    .dataframe thead th {\n",
       "        text-align: right;\n",
       "    }\n",
       "</style>\n",
       "<table border=\"1\" class=\"dataframe\">\n",
       "  <thead>\n",
       "    <tr style=\"text-align: right;\">\n",
       "      <th></th>\n",
       "      <th>invoiceID</th>\n",
       "      <th>branch</th>\n",
       "      <th>city</th>\n",
       "      <th>cust_type</th>\n",
       "      <th>gender</th>\n",
       "      <th>type</th>\n",
       "      <th>unit_price</th>\n",
       "      <th>quantity</th>\n",
       "      <th>date</th>\n",
       "      <th>time</th>\n",
       "      <th>payment</th>\n",
       "      <th>cost</th>\n",
       "      <th>gross income</th>\n",
       "      <th>rating</th>\n",
       "    </tr>\n",
       "  </thead>\n",
       "  <tbody>\n",
       "    <tr>\n",
       "      <td>0</td>\n",
       "      <td>101-17-6199</td>\n",
       "      <td>A</td>\n",
       "      <td>Cairo</td>\n",
       "      <td>0</td>\n",
       "      <td>0</td>\n",
       "      <td>Food and beverages</td>\n",
       "      <td>45.79</td>\n",
       "      <td>7</td>\n",
       "      <td>2019-03-13</td>\n",
       "      <td>19:44:00</td>\n",
       "      <td>Credit card</td>\n",
       "      <td>320.53</td>\n",
       "      <td>16.0265</td>\n",
       "      <td>7.0</td>\n",
       "    </tr>\n",
       "    <tr>\n",
       "      <td>1</td>\n",
       "      <td>101-81-4070</td>\n",
       "      <td>C</td>\n",
       "      <td>Alexandria</td>\n",
       "      <td>1</td>\n",
       "      <td>1</td>\n",
       "      <td>Health and beauty</td>\n",
       "      <td>62.82</td>\n",
       "      <td>2</td>\n",
       "      <td>2019-01-17</td>\n",
       "      <td>12:36:00</td>\n",
       "      <td>eWallet</td>\n",
       "      <td>125.64</td>\n",
       "      <td>6.2820</td>\n",
       "      <td>4.9</td>\n",
       "    </tr>\n",
       "    <tr>\n",
       "      <td>2</td>\n",
       "      <td>102-06-2002</td>\n",
       "      <td>C</td>\n",
       "      <td>Alexandria</td>\n",
       "      <td>1</td>\n",
       "      <td>0</td>\n",
       "      <td>Sports and travel</td>\n",
       "      <td>25.25</td>\n",
       "      <td>5</td>\n",
       "      <td>2019-03-20</td>\n",
       "      <td>17:52:00</td>\n",
       "      <td>Cash</td>\n",
       "      <td>126.25</td>\n",
       "      <td>6.3125</td>\n",
       "      <td>6.1</td>\n",
       "    </tr>\n",
       "    <tr>\n",
       "      <td>3</td>\n",
       "      <td>102-77-2261</td>\n",
       "      <td>C</td>\n",
       "      <td>Alexandria</td>\n",
       "      <td>1</td>\n",
       "      <td>0</td>\n",
       "      <td>Health and beauty</td>\n",
       "      <td>65.31</td>\n",
       "      <td>7</td>\n",
       "      <td>2019-03-05</td>\n",
       "      <td>18:02:00</td>\n",
       "      <td>Credit card</td>\n",
       "      <td>457.17</td>\n",
       "      <td>22.8585</td>\n",
       "      <td>4.2</td>\n",
       "    </tr>\n",
       "    <tr>\n",
       "      <td>4</td>\n",
       "      <td>105-10-6182</td>\n",
       "      <td>A</td>\n",
       "      <td>Cairo</td>\n",
       "      <td>1</td>\n",
       "      <td>0</td>\n",
       "      <td>Fashion accessories</td>\n",
       "      <td>21.48</td>\n",
       "      <td>2</td>\n",
       "      <td>2019-02-27</td>\n",
       "      <td>12:22:00</td>\n",
       "      <td>eWallet</td>\n",
       "      <td>42.96</td>\n",
       "      <td>2.1480</td>\n",
       "      <td>6.6</td>\n",
       "    </tr>\n",
       "  </tbody>\n",
       "</table>\n",
       "</div>"
      ],
      "text/plain": [
       "     invoiceID branch        city  cust_type  gender                 type  \\\n",
       "0  101-17-6199      A       Cairo          0       0   Food and beverages   \n",
       "1  101-81-4070      C  Alexandria          1       1    Health and beauty   \n",
       "2  102-06-2002      C  Alexandria          1       0    Sports and travel   \n",
       "3  102-77-2261      C  Alexandria          1       0    Health and beauty   \n",
       "4  105-10-6182      A       Cairo          1       0  Fashion accessories   \n",
       "\n",
       "   unit_price  quantity       date      time      payment    cost  \\\n",
       "0       45.79         7 2019-03-13  19:44:00  Credit card  320.53   \n",
       "1       62.82         2 2019-01-17  12:36:00      eWallet  125.64   \n",
       "2       25.25         5 2019-03-20  17:52:00         Cash  126.25   \n",
       "3       65.31         7 2019-03-05  18:02:00  Credit card  457.17   \n",
       "4       21.48         2 2019-02-27  12:22:00      eWallet   42.96   \n",
       "\n",
       "   gross income  rating  \n",
       "0       16.0265     7.0  \n",
       "1        6.2820     4.9  \n",
       "2        6.3125     6.1  \n",
       "3       22.8585     4.2  \n",
       "4        2.1480     6.6  "
      ]
     },
     "execution_count": 242,
     "metadata": {},
     "output_type": "execute_result"
    }
   ],
   "source": [
    "df.head(5)"
   ]
  },
  {
   "cell_type": "markdown",
   "metadata": {},
   "source": [
    "But for more than binomial, we need to make new variable and concat the data into the dataframe."
   ]
  },
  {
   "cell_type": "code",
   "execution_count": 243,
   "metadata": {},
   "outputs": [],
   "source": [
    "#dummies for variable with trinomial or more (3 categories or more)\n",
    "branch = pd.get_dummies(df['branch'])\n",
    "payment = pd.get_dummies(df['payment'])\n",
    "Type = pd.get_dummies(df['type'])"
   ]
  },
  {
   "cell_type": "code",
   "execution_count": 244,
   "metadata": {},
   "outputs": [
    {
     "data": {
      "text/html": [
       "<div>\n",
       "<style scoped>\n",
       "    .dataframe tbody tr th:only-of-type {\n",
       "        vertical-align: middle;\n",
       "    }\n",
       "\n",
       "    .dataframe tbody tr th {\n",
       "        vertical-align: top;\n",
       "    }\n",
       "\n",
       "    .dataframe thead th {\n",
       "        text-align: right;\n",
       "    }\n",
       "</style>\n",
       "<table border=\"1\" class=\"dataframe\">\n",
       "  <thead>\n",
       "    <tr style=\"text-align: right;\">\n",
       "      <th></th>\n",
       "      <th>invoiceID</th>\n",
       "      <th>branch</th>\n",
       "      <th>city</th>\n",
       "      <th>cust_type</th>\n",
       "      <th>gender</th>\n",
       "      <th>type</th>\n",
       "      <th>unit_price</th>\n",
       "      <th>quantity</th>\n",
       "      <th>date</th>\n",
       "      <th>time</th>\n",
       "      <th>...</th>\n",
       "      <th>C</th>\n",
       "      <th>Cash</th>\n",
       "      <th>Credit card</th>\n",
       "      <th>eWallet</th>\n",
       "      <th>Electronic accessories</th>\n",
       "      <th>Fashion accessories</th>\n",
       "      <th>Food and beverages</th>\n",
       "      <th>Health and beauty</th>\n",
       "      <th>Home and lifestyle</th>\n",
       "      <th>Sports and travel</th>\n",
       "    </tr>\n",
       "  </thead>\n",
       "  <tbody>\n",
       "    <tr>\n",
       "      <td>0</td>\n",
       "      <td>101-17-6199</td>\n",
       "      <td>A</td>\n",
       "      <td>Cairo</td>\n",
       "      <td>0</td>\n",
       "      <td>0</td>\n",
       "      <td>Food and beverages</td>\n",
       "      <td>45.79</td>\n",
       "      <td>7</td>\n",
       "      <td>2019-03-13</td>\n",
       "      <td>19:44:00</td>\n",
       "      <td>...</td>\n",
       "      <td>0</td>\n",
       "      <td>0</td>\n",
       "      <td>1</td>\n",
       "      <td>0</td>\n",
       "      <td>0</td>\n",
       "      <td>0</td>\n",
       "      <td>1</td>\n",
       "      <td>0</td>\n",
       "      <td>0</td>\n",
       "      <td>0</td>\n",
       "    </tr>\n",
       "    <tr>\n",
       "      <td>1</td>\n",
       "      <td>101-81-4070</td>\n",
       "      <td>C</td>\n",
       "      <td>Alexandria</td>\n",
       "      <td>1</td>\n",
       "      <td>1</td>\n",
       "      <td>Health and beauty</td>\n",
       "      <td>62.82</td>\n",
       "      <td>2</td>\n",
       "      <td>2019-01-17</td>\n",
       "      <td>12:36:00</td>\n",
       "      <td>...</td>\n",
       "      <td>1</td>\n",
       "      <td>0</td>\n",
       "      <td>0</td>\n",
       "      <td>1</td>\n",
       "      <td>0</td>\n",
       "      <td>0</td>\n",
       "      <td>0</td>\n",
       "      <td>1</td>\n",
       "      <td>0</td>\n",
       "      <td>0</td>\n",
       "    </tr>\n",
       "    <tr>\n",
       "      <td>2</td>\n",
       "      <td>102-06-2002</td>\n",
       "      <td>C</td>\n",
       "      <td>Alexandria</td>\n",
       "      <td>1</td>\n",
       "      <td>0</td>\n",
       "      <td>Sports and travel</td>\n",
       "      <td>25.25</td>\n",
       "      <td>5</td>\n",
       "      <td>2019-03-20</td>\n",
       "      <td>17:52:00</td>\n",
       "      <td>...</td>\n",
       "      <td>1</td>\n",
       "      <td>1</td>\n",
       "      <td>0</td>\n",
       "      <td>0</td>\n",
       "      <td>0</td>\n",
       "      <td>0</td>\n",
       "      <td>0</td>\n",
       "      <td>0</td>\n",
       "      <td>0</td>\n",
       "      <td>1</td>\n",
       "    </tr>\n",
       "    <tr>\n",
       "      <td>3</td>\n",
       "      <td>102-77-2261</td>\n",
       "      <td>C</td>\n",
       "      <td>Alexandria</td>\n",
       "      <td>1</td>\n",
       "      <td>0</td>\n",
       "      <td>Health and beauty</td>\n",
       "      <td>65.31</td>\n",
       "      <td>7</td>\n",
       "      <td>2019-03-05</td>\n",
       "      <td>18:02:00</td>\n",
       "      <td>...</td>\n",
       "      <td>1</td>\n",
       "      <td>0</td>\n",
       "      <td>1</td>\n",
       "      <td>0</td>\n",
       "      <td>0</td>\n",
       "      <td>0</td>\n",
       "      <td>0</td>\n",
       "      <td>1</td>\n",
       "      <td>0</td>\n",
       "      <td>0</td>\n",
       "    </tr>\n",
       "    <tr>\n",
       "      <td>4</td>\n",
       "      <td>105-10-6182</td>\n",
       "      <td>A</td>\n",
       "      <td>Cairo</td>\n",
       "      <td>1</td>\n",
       "      <td>0</td>\n",
       "      <td>Fashion accessories</td>\n",
       "      <td>21.48</td>\n",
       "      <td>2</td>\n",
       "      <td>2019-02-27</td>\n",
       "      <td>12:22:00</td>\n",
       "      <td>...</td>\n",
       "      <td>0</td>\n",
       "      <td>0</td>\n",
       "      <td>0</td>\n",
       "      <td>1</td>\n",
       "      <td>0</td>\n",
       "      <td>1</td>\n",
       "      <td>0</td>\n",
       "      <td>0</td>\n",
       "      <td>0</td>\n",
       "      <td>0</td>\n",
       "    </tr>\n",
       "  </tbody>\n",
       "</table>\n",
       "<p>5 rows × 26 columns</p>\n",
       "</div>"
      ],
      "text/plain": [
       "     invoiceID branch        city  cust_type  gender                 type  \\\n",
       "0  101-17-6199      A       Cairo          0       0   Food and beverages   \n",
       "1  101-81-4070      C  Alexandria          1       1    Health and beauty   \n",
       "2  102-06-2002      C  Alexandria          1       0    Sports and travel   \n",
       "3  102-77-2261      C  Alexandria          1       0    Health and beauty   \n",
       "4  105-10-6182      A       Cairo          1       0  Fashion accessories   \n",
       "\n",
       "   unit_price  quantity       date      time  ...  C  Cash  Credit card  \\\n",
       "0       45.79         7 2019-03-13  19:44:00  ...  0     0            1   \n",
       "1       62.82         2 2019-01-17  12:36:00  ...  1     0            0   \n",
       "2       25.25         5 2019-03-20  17:52:00  ...  1     1            0   \n",
       "3       65.31         7 2019-03-05  18:02:00  ...  1     0            1   \n",
       "4       21.48         2 2019-02-27  12:22:00  ...  0     0            0   \n",
       "\n",
       "   eWallet  Electronic accessories  Fashion accessories  Food and beverages  \\\n",
       "0        0                       0                    0                   1   \n",
       "1        1                       0                    0                   0   \n",
       "2        0                       0                    0                   0   \n",
       "3        0                       0                    0                   0   \n",
       "4        1                       0                    1                   0   \n",
       "\n",
       "   Health and beauty  Home and lifestyle  Sports and travel  \n",
       "0                  0                   0                  0  \n",
       "1                  1                   0                  0  \n",
       "2                  0                   0                  1  \n",
       "3                  1                   0                  0  \n",
       "4                  0                   0                  0  \n",
       "\n",
       "[5 rows x 26 columns]"
      ]
     },
     "execution_count": 244,
     "metadata": {},
     "output_type": "execute_result"
    }
   ],
   "source": [
    "#combine df2 with all of dummies variable to make it into 1 variabel\n",
    "df2 = pd.concat((df,branch,payment,Type), axis = 1)\n",
    "df2.head()"
   ]
  },
  {
   "cell_type": "markdown",
   "metadata": {},
   "source": [
    "Besides that, we also try to change and extract date and time, so it can be used part of regression. We don't need to extract year because the data only taken from Jan 2019 - March 2019 which all have the same year."
   ]
  },
  {
   "cell_type": "code",
   "execution_count": 245,
   "metadata": {},
   "outputs": [],
   "source": [
    "import datetime\n",
    "#extract day and month\n",
    "df2['day'] = df2['date'].dt.day\n",
    "df2['month'] = df2['date'].dt.month"
   ]
  },
  {
   "cell_type": "markdown",
   "metadata": {},
   "source": [
    "To split time, we will use pd.to_datetime, in order to change it to date time before splitting it into hours."
   ]
  },
  {
   "cell_type": "code",
   "execution_count": 246,
   "metadata": {},
   "outputs": [],
   "source": [
    "df2['hour'] = pd.to_datetime(df['time'], format='%H:%M:%S').dt.hour"
   ]
  },
  {
   "cell_type": "code",
   "execution_count": 247,
   "metadata": {},
   "outputs": [
    {
     "data": {
      "text/html": [
       "<div>\n",
       "<style scoped>\n",
       "    .dataframe tbody tr th:only-of-type {\n",
       "        vertical-align: middle;\n",
       "    }\n",
       "\n",
       "    .dataframe tbody tr th {\n",
       "        vertical-align: top;\n",
       "    }\n",
       "\n",
       "    .dataframe thead th {\n",
       "        text-align: right;\n",
       "    }\n",
       "</style>\n",
       "<table border=\"1\" class=\"dataframe\">\n",
       "  <thead>\n",
       "    <tr style=\"text-align: right;\">\n",
       "      <th></th>\n",
       "      <th>invoiceID</th>\n",
       "      <th>branch</th>\n",
       "      <th>city</th>\n",
       "      <th>cust_type</th>\n",
       "      <th>gender</th>\n",
       "      <th>type</th>\n",
       "      <th>unit_price</th>\n",
       "      <th>quantity</th>\n",
       "      <th>date</th>\n",
       "      <th>time</th>\n",
       "      <th>...</th>\n",
       "      <th>eWallet</th>\n",
       "      <th>Electronic accessories</th>\n",
       "      <th>Fashion accessories</th>\n",
       "      <th>Food and beverages</th>\n",
       "      <th>Health and beauty</th>\n",
       "      <th>Home and lifestyle</th>\n",
       "      <th>Sports and travel</th>\n",
       "      <th>day</th>\n",
       "      <th>month</th>\n",
       "      <th>hour</th>\n",
       "    </tr>\n",
       "  </thead>\n",
       "  <tbody>\n",
       "    <tr>\n",
       "      <td>0</td>\n",
       "      <td>101-17-6199</td>\n",
       "      <td>A</td>\n",
       "      <td>Cairo</td>\n",
       "      <td>0</td>\n",
       "      <td>0</td>\n",
       "      <td>Food and beverages</td>\n",
       "      <td>45.79</td>\n",
       "      <td>7</td>\n",
       "      <td>2019-03-13</td>\n",
       "      <td>19:44:00</td>\n",
       "      <td>...</td>\n",
       "      <td>0</td>\n",
       "      <td>0</td>\n",
       "      <td>0</td>\n",
       "      <td>1</td>\n",
       "      <td>0</td>\n",
       "      <td>0</td>\n",
       "      <td>0</td>\n",
       "      <td>13</td>\n",
       "      <td>3</td>\n",
       "      <td>19</td>\n",
       "    </tr>\n",
       "    <tr>\n",
       "      <td>1</td>\n",
       "      <td>101-81-4070</td>\n",
       "      <td>C</td>\n",
       "      <td>Alexandria</td>\n",
       "      <td>1</td>\n",
       "      <td>1</td>\n",
       "      <td>Health and beauty</td>\n",
       "      <td>62.82</td>\n",
       "      <td>2</td>\n",
       "      <td>2019-01-17</td>\n",
       "      <td>12:36:00</td>\n",
       "      <td>...</td>\n",
       "      <td>1</td>\n",
       "      <td>0</td>\n",
       "      <td>0</td>\n",
       "      <td>0</td>\n",
       "      <td>1</td>\n",
       "      <td>0</td>\n",
       "      <td>0</td>\n",
       "      <td>17</td>\n",
       "      <td>1</td>\n",
       "      <td>12</td>\n",
       "    </tr>\n",
       "    <tr>\n",
       "      <td>2</td>\n",
       "      <td>102-06-2002</td>\n",
       "      <td>C</td>\n",
       "      <td>Alexandria</td>\n",
       "      <td>1</td>\n",
       "      <td>0</td>\n",
       "      <td>Sports and travel</td>\n",
       "      <td>25.25</td>\n",
       "      <td>5</td>\n",
       "      <td>2019-03-20</td>\n",
       "      <td>17:52:00</td>\n",
       "      <td>...</td>\n",
       "      <td>0</td>\n",
       "      <td>0</td>\n",
       "      <td>0</td>\n",
       "      <td>0</td>\n",
       "      <td>0</td>\n",
       "      <td>0</td>\n",
       "      <td>1</td>\n",
       "      <td>20</td>\n",
       "      <td>3</td>\n",
       "      <td>17</td>\n",
       "    </tr>\n",
       "    <tr>\n",
       "      <td>3</td>\n",
       "      <td>102-77-2261</td>\n",
       "      <td>C</td>\n",
       "      <td>Alexandria</td>\n",
       "      <td>1</td>\n",
       "      <td>0</td>\n",
       "      <td>Health and beauty</td>\n",
       "      <td>65.31</td>\n",
       "      <td>7</td>\n",
       "      <td>2019-03-05</td>\n",
       "      <td>18:02:00</td>\n",
       "      <td>...</td>\n",
       "      <td>0</td>\n",
       "      <td>0</td>\n",
       "      <td>0</td>\n",
       "      <td>0</td>\n",
       "      <td>1</td>\n",
       "      <td>0</td>\n",
       "      <td>0</td>\n",
       "      <td>5</td>\n",
       "      <td>3</td>\n",
       "      <td>18</td>\n",
       "    </tr>\n",
       "    <tr>\n",
       "      <td>4</td>\n",
       "      <td>105-10-6182</td>\n",
       "      <td>A</td>\n",
       "      <td>Cairo</td>\n",
       "      <td>1</td>\n",
       "      <td>0</td>\n",
       "      <td>Fashion accessories</td>\n",
       "      <td>21.48</td>\n",
       "      <td>2</td>\n",
       "      <td>2019-02-27</td>\n",
       "      <td>12:22:00</td>\n",
       "      <td>...</td>\n",
       "      <td>1</td>\n",
       "      <td>0</td>\n",
       "      <td>1</td>\n",
       "      <td>0</td>\n",
       "      <td>0</td>\n",
       "      <td>0</td>\n",
       "      <td>0</td>\n",
       "      <td>27</td>\n",
       "      <td>2</td>\n",
       "      <td>12</td>\n",
       "    </tr>\n",
       "  </tbody>\n",
       "</table>\n",
       "<p>5 rows × 29 columns</p>\n",
       "</div>"
      ],
      "text/plain": [
       "     invoiceID branch        city  cust_type  gender                 type  \\\n",
       "0  101-17-6199      A       Cairo          0       0   Food and beverages   \n",
       "1  101-81-4070      C  Alexandria          1       1    Health and beauty   \n",
       "2  102-06-2002      C  Alexandria          1       0    Sports and travel   \n",
       "3  102-77-2261      C  Alexandria          1       0    Health and beauty   \n",
       "4  105-10-6182      A       Cairo          1       0  Fashion accessories   \n",
       "\n",
       "   unit_price  quantity       date      time  ... eWallet  \\\n",
       "0       45.79         7 2019-03-13  19:44:00  ...       0   \n",
       "1       62.82         2 2019-01-17  12:36:00  ...       1   \n",
       "2       25.25         5 2019-03-20  17:52:00  ...       0   \n",
       "3       65.31         7 2019-03-05  18:02:00  ...       0   \n",
       "4       21.48         2 2019-02-27  12:22:00  ...       1   \n",
       "\n",
       "   Electronic accessories  Fashion accessories  Food and beverages  \\\n",
       "0                       0                    0                   1   \n",
       "1                       0                    0                   0   \n",
       "2                       0                    0                   0   \n",
       "3                       0                    0                   0   \n",
       "4                       0                    1                   0   \n",
       "\n",
       "   Health and beauty  Home and lifestyle  Sports and travel  day  month  hour  \n",
       "0                  0                   0                  0   13      3    19  \n",
       "1                  1                   0                  0   17      1    12  \n",
       "2                  0                   0                  1   20      3    17  \n",
       "3                  1                   0                  0    5      3    18  \n",
       "4                  0                   0                  0   27      2    12  \n",
       "\n",
       "[5 rows x 29 columns]"
      ]
     },
     "execution_count": 247,
     "metadata": {},
     "output_type": "execute_result"
    }
   ],
   "source": [
    "df2.head()"
   ]
  },
  {
   "cell_type": "markdown",
   "metadata": {},
   "source": [
    "## Data Visualization"
   ]
  },
  {
   "cell_type": "markdown",
   "metadata": {},
   "source": [
    "To help us, understand more about the data we will try to visualize some univariate and multivariate data"
   ]
  },
  {
   "cell_type": "markdown",
   "metadata": {},
   "source": [
    "### Univariate Variabel"
   ]
  },
  {
   "cell_type": "code",
   "execution_count": 248,
   "metadata": {},
   "outputs": [
    {
     "data": {
      "text/plain": [
       "Text(0.5, 1.0, 'Cairo has the highest visitors')"
      ]
     },
     "execution_count": 248,
     "metadata": {},
     "output_type": "execute_result"
    },
    {
     "data": {
      "image/png": "[encoded data removed]",
      "text/plain": [
       "<Figure size 432x288 with 1 Axes>"
      ]
     },
     "metadata": {},
     "output_type": "display_data"
    }
   ],
   "source": [
    "sns.set_style('darkgrid')\n",
    "sns.set_palette('pastel')\n",
    "sns.countplot('city',data=df2)\n",
    "plt.title('Cairo has the highest visitors')"
   ]
  },
  {
   "cell_type": "markdown",
   "metadata": {},
   "source": [
    "Based on graph, we can know that Cairo has the highest supermarket visitors."
   ]
  },
  {
   "cell_type": "code",
   "execution_count": 249,
   "metadata": {},
   "outputs": [
    {
     "data": {
      "text/plain": [
       "Text(0.5, 1.0, 'Number between Male and Female Customer are similar')"
      ]
     },
     "execution_count": 249,
     "metadata": {},
     "output_type": "execute_result"
    },
    {
     "data": {
      "image/png": "[encoded data removed]",
      "text/plain": [
       "<Figure size 432x288 with 1 Axes>"
      ]
     },
     "metadata": {},
     "output_type": "display_data"
    }
   ],
   "source": [
    "ax = plt.subplot()\n",
    "sns.countplot('gender',data=df2)\n",
    "ax.set_xticks([0,1])\n",
    "ax.set_xticklabels(['Male','Female'])\n",
    "ax.set(xlabel=\"Gender\", ylabel = \"Count\")\n",
    "plt.title('Number between Male and Female Customer are similar')"
   ]
  },
  {
   "cell_type": "code",
   "execution_count": 250,
   "metadata": {},
   "outputs": [
    {
     "data": {
      "text/plain": [
       "Text(0.5, 1.0, 'January, March, February Has The Highest Transaction Consecutively')"
      ]
     },
     "execution_count": 250,
     "metadata": {},
     "output_type": "execute_result"
    },
    {
     "data": {
      "image/png": "[encoded data removed]",
      "text/plain": [
       "<Figure size 432x288 with 1 Axes>"
      ]
     },
     "metadata": {},
     "output_type": "display_data"
    }
   ],
   "source": [
    "sns.countplot('month',data=df2)\n",
    "plt.title('January, March, February Has The Highest Transaction Consecutively')"
   ]
  },
  {
   "cell_type": "markdown",
   "metadata": {},
   "source": [
    "January, March, February has the highest transaction consecutively."
   ]
  },
  {
   "cell_type": "code",
   "execution_count": 251,
   "metadata": {},
   "outputs": [
    {
     "data": {
      "text/plain": [
       "Text(0.5, 1.0, '19 or 7 pm are time with the highest visitors')"
      ]
     },
     "execution_count": 251,
     "metadata": {},
     "output_type": "execute_result"
    },
    {
     "data": {
      "image/png": "[encoded data removed]",
      "text/plain": [
       "<Figure size 432x288 with 1 Axes>"
      ]
     },
     "metadata": {},
     "output_type": "display_data"
    }
   ],
   "source": [
    "sns.countplot('hour',data=df2)\n",
    "plt.title('19 or 7 pm are time with the highest visitors')"
   ]
  },
  {
   "cell_type": "markdown",
   "metadata": {},
   "source": [
    "Highest transaction happens on 19.00 or 7 pm."
   ]
  },
  {
   "cell_type": "code",
   "execution_count": 252,
   "metadata": {},
   "outputs": [
    {
     "data": {
      "text/plain": [
       "Text(0.5, 1.0, 'Fashion and F&B are the leading sales in Supermarket')"
      ]
     },
     "execution_count": 252,
     "metadata": {},
     "output_type": "execute_result"
    },
    {
     "data": {
      "image/png": "[encoded data removed]",
      "text/plain": [
       "<Figure size 864x360 with 1 Axes>"
      ]
     },
     "metadata": {},
     "output_type": "display_data"
    }
   ],
   "source": [
    "plt.figure(figsize=(12,5))\n",
    "sns.countplot('type',data=df)\n",
    "plt.title('Fashion and F&B are the leading sales in Supermarket')"
   ]
  },
  {
   "cell_type": "markdown",
   "metadata": {},
   "source": [
    "1st and 2nd Highest transaction are on **Fashion Accessories** and **Food and beverages**."
   ]
  },
  {
   "cell_type": "code",
   "execution_count": 253,
   "metadata": {},
   "outputs": [
    {
     "name": "stderr",
     "output_type": "stream",
     "text": [
      "/Users/raveltowangistu/opt/anaconda3/lib/python3.7/site-packages/seaborn/distributions.py:323: MatplotlibDeprecationWarning: Saw kwargs ['c', 'color'] which are all aliases for 'color'.  Kept value from 'color'.  Passing multiple aliases for the same property will raise a TypeError in 3.3.\n",
      "  ax.plot(x, y, color=color, label=label, **kwargs)\n"
     ]
    },
    {
     "data": {
      "image/png": "[encoded data removed]",
      "text/plain": [
       "<Figure size 432x288 with 1 Axes>"
      ]
     },
     "metadata": {},
     "output_type": "display_data"
    }
   ],
   "source": [
    "sns.kdeplot(df2['rating'],c='red')\n",
    "plt.hist(df2['rating'],density = True,bins=20, color ='pink')\n",
    "plt.title('Distribution Rating are unimodal and tend to be normal')\n",
    "plt.show()"
   ]
  },
  {
   "cell_type": "code",
   "execution_count": 254,
   "metadata": {},
   "outputs": [
    {
     "data": {
      "image/png": "[encoded data removed]",
      "text/plain": [
       "<Figure size 432x288 with 1 Axes>"
      ]
     },
     "metadata": {},
     "output_type": "display_data"
    }
   ],
   "source": [
    "sns.boxplot(y='rating',data=df)\n",
    "plt.title('There is no outlier in rating dataset')\n",
    "plt.show()"
   ]
  },
  {
   "cell_type": "markdown",
   "metadata": {},
   "source": [
    "The distribution of **ratings** in supermarket data are unimodal and reach their mode on around 0.6. Also,there is no outlier in data."
   ]
  },
  {
   "cell_type": "markdown",
   "metadata": {},
   "source": [
    "### Multivariate Analysis"
   ]
  },
  {
   "cell_type": "code",
   "execution_count": 255,
   "metadata": {},
   "outputs": [
    {
     "data": {
      "image/png": "[encoded data removed]",
      "text/plain": [
       "<Figure size 576x432 with 2 Axes>"
      ]
     },
     "metadata": {},
     "output_type": "display_data"
    }
   ],
   "source": [
    "cor = df.corr()\n",
    "plt.figure(figsize=(8,6))\n",
    "sns.heatmap(cor, vmax=1, annot=True)\n",
    "plt.show()"
   ]
  },
  {
   "cell_type": "code",
   "execution_count": 256,
   "metadata": {},
   "outputs": [
    {
     "data": {
      "text/plain": [
       "Text(0.5, 1.0, 'Relationship between Cost and Quantity')"
      ]
     },
     "execution_count": 256,
     "metadata": {},
     "output_type": "execute_result"
    },
    {
     "data": {
      "image/png": "[encoded data removed]",
      "text/plain": [
       "<Figure size 432x288 with 1 Axes>"
      ]
     },
     "metadata": {},
     "output_type": "display_data"
    }
   ],
   "source": [
    "sns.scatterplot(data=df2,x='cost',y='quantity')\n",
    "plt.title('Relationship between Cost and Quantity')"
   ]
  },
  {
   "cell_type": "markdown",
   "metadata": {},
   "source": [
    "Based on correlation analysis, we can know and predict that cost, gross income, and quantity has strong correlation between them. It means that we cannot put all of three variables into one multilinear regression because of law **multicolinearity**."
   ]
  },
  {
   "cell_type": "code",
   "execution_count": 257,
   "metadata": {},
   "outputs": [
    {
     "data": {
      "text/plain": [
       "Text(0.5, 1.0, 'Relationship between Hour and Rating')"
      ]
     },
     "execution_count": 257,
     "metadata": {},
     "output_type": "execute_result"
    },
    {
     "data": {
      "image/png": "[encoded data removed]",
      "text/plain": [
       "<Figure size 432x288 with 1 Axes>"
      ]
     },
     "metadata": {},
     "output_type": "display_data"
    }
   ],
   "source": [
    "sns.scatterplot(data=df2,x='hour',y='rating')\n",
    "plt.title('Relationship between Hour and Rating')"
   ]
  },
  {
   "cell_type": "code",
   "execution_count": 258,
   "metadata": {},
   "outputs": [
    {
     "data": {
      "text/plain": [
       "Text(0.5, 1.0, 'Relationship between Gross Income and Rating')"
      ]
     },
     "execution_count": 258,
     "metadata": {},
     "output_type": "execute_result"
    },
    {
     "data": {
      "image/png": "[encoded data removed]",
      "text/plain": [
       "<Figure size 432x288 with 1 Axes>"
      ]
     },
     "metadata": {},
     "output_type": "display_data"
    }
   ],
   "source": [
    "sns.scatterplot(data=df2,x='gross income',y='rating')\n",
    "plt.title('Relationship between Gross Income and Rating')"
   ]
  },
  {
   "cell_type": "markdown",
   "metadata": {},
   "source": [
    "Based on comparing gross income and hour on rating, the data shows that there are high probability that there is no correlation between the two variables."
   ]
  },
  {
   "cell_type": "markdown",
   "metadata": {},
   "source": [
    "## Modelling"
   ]
  },
  {
   "cell_type": "markdown",
   "metadata": {},
   "source": [
    "To predict rating, we will try to use two methodology: **Multi Regression** and **KNNRegressor**. We will try to compare the quality and effect size of both methodologies."
   ]
  },
  {
   "cell_type": "markdown",
   "metadata": {},
   "source": [
    "### MultiRegression"
   ]
  },
  {
   "cell_type": "markdown",
   "metadata": {},
   "source": [
    "Divide Table into variabel X(features beside Rating) and Y(Rating)"
   ]
  },
  {
   "cell_type": "code",
   "execution_count": 259,
   "metadata": {},
   "outputs": [],
   "source": [
    "X = df2[['cust_type','gender','gross income','A','B','C','Cash','Credit card','eWallet','Electronic accessories','Fashion accessories','Food and beverages','Health and beauty','Home and lifestyle','Sports and travel','day','month','hour']]\n",
    "y = df2['rating']"
   ]
  },
  {
   "cell_type": "markdown",
   "metadata": {},
   "source": [
    "Divide the data into train and test data."
   ]
  },
  {
   "cell_type": "code",
   "execution_count": 260,
   "metadata": {},
   "outputs": [],
   "source": [
    "from sklearn.model_selection import train_test_split\n",
    "\n",
    "X_train, X_test, y_train, y_test = train_test_split(X,y, test_size = 0.2, random_state=0)"
   ]
  },
  {
   "cell_type": "markdown",
   "metadata": {},
   "source": [
    "Use Regressor to know the slope of data."
   ]
  },
  {
   "cell_type": "code",
   "execution_count": 261,
   "metadata": {
    "scrolled": true
   },
   "outputs": [
    {
     "data": {
      "text/plain": [
       "-0.05983037889970455"
      ]
     },
     "execution_count": 261,
     "metadata": {},
     "output_type": "execute_result"
    }
   ],
   "source": [
    "from sklearn.linear_model import LinearRegression\n",
    "\n",
    "regressor = LinearRegression()\n",
    "regressor.fit(X_train,y_train)\n",
    "y_prediction = regressor.predict(X_test)\n",
    "#calculate total coefficient of regressor\n",
    "regressor.score(X_test,y_test)"
   ]
  },
  {
   "cell_type": "code",
   "execution_count": 279,
   "metadata": {},
   "outputs": [
    {
     "data": {
      "text/html": [
       "<div>\n",
       "<style scoped>\n",
       "    .dataframe tbody tr th:only-of-type {\n",
       "        vertical-align: middle;\n",
       "    }\n",
       "\n",
       "    .dataframe tbody tr th {\n",
       "        vertical-align: top;\n",
       "    }\n",
       "\n",
       "    .dataframe thead th {\n",
       "        text-align: right;\n",
       "    }\n",
       "</style>\n",
       "<table border=\"1\" class=\"dataframe\">\n",
       "  <thead>\n",
       "    <tr style=\"text-align: right;\">\n",
       "      <th></th>\n",
       "      <th>Coefficient</th>\n",
       "    </tr>\n",
       "  </thead>\n",
       "  <tbody>\n",
       "    <tr>\n",
       "      <td>cust_type</td>\n",
       "      <td>-0.028405</td>\n",
       "    </tr>\n",
       "    <tr>\n",
       "      <td>gender</td>\n",
       "      <td>0.025536</td>\n",
       "    </tr>\n",
       "    <tr>\n",
       "      <td>gross income</td>\n",
       "      <td>-0.006082</td>\n",
       "    </tr>\n",
       "    <tr>\n",
       "      <td>A</td>\n",
       "      <td>0.085897</td>\n",
       "    </tr>\n",
       "    <tr>\n",
       "      <td>B</td>\n",
       "      <td>-0.191426</td>\n",
       "    </tr>\n",
       "    <tr>\n",
       "      <td>C</td>\n",
       "      <td>0.105529</td>\n",
       "    </tr>\n",
       "    <tr>\n",
       "      <td>Cash</td>\n",
       "      <td>0.007883</td>\n",
       "    </tr>\n",
       "    <tr>\n",
       "      <td>Credit card</td>\n",
       "      <td>0.015136</td>\n",
       "    </tr>\n",
       "    <tr>\n",
       "      <td>eWallet</td>\n",
       "      <td>-0.023019</td>\n",
       "    </tr>\n",
       "    <tr>\n",
       "      <td>Electronic accessories</td>\n",
       "      <td>-0.056381</td>\n",
       "    </tr>\n",
       "    <tr>\n",
       "      <td>Fashion accessories</td>\n",
       "      <td>-0.068292</td>\n",
       "    </tr>\n",
       "    <tr>\n",
       "      <td>Food and beverages</td>\n",
       "      <td>0.273889</td>\n",
       "    </tr>\n",
       "    <tr>\n",
       "      <td>Health and beauty</td>\n",
       "      <td>0.053618</td>\n",
       "    </tr>\n",
       "    <tr>\n",
       "      <td>Home and lifestyle</td>\n",
       "      <td>-0.172096</td>\n",
       "    </tr>\n",
       "    <tr>\n",
       "      <td>Sports and travel</td>\n",
       "      <td>-0.030737</td>\n",
       "    </tr>\n",
       "    <tr>\n",
       "      <td>day</td>\n",
       "      <td>-0.002467</td>\n",
       "    </tr>\n",
       "    <tr>\n",
       "      <td>month</td>\n",
       "      <td>-0.059354</td>\n",
       "    </tr>\n",
       "    <tr>\n",
       "      <td>hour</td>\n",
       "      <td>-0.017887</td>\n",
       "    </tr>\n",
       "  </tbody>\n",
       "</table>\n",
       "</div>"
      ],
      "text/plain": [
       "                        Coefficient\n",
       "cust_type                 -0.028405\n",
       "gender                     0.025536\n",
       "gross income              -0.006082\n",
       "A                          0.085897\n",
       "B                         -0.191426\n",
       "C                          0.105529\n",
       "Cash                       0.007883\n",
       "Credit card                0.015136\n",
       "eWallet                   -0.023019\n",
       "Electronic accessories    -0.056381\n",
       "Fashion accessories       -0.068292\n",
       "Food and beverages         0.273889\n",
       "Health and beauty          0.053618\n",
       "Home and lifestyle        -0.172096\n",
       "Sports and travel         -0.030737\n",
       "day                       -0.002467\n",
       "month                     -0.059354\n",
       "hour                      -0.017887"
      ]
     },
     "execution_count": 279,
     "metadata": {},
     "output_type": "execute_result"
    }
   ],
   "source": [
    "#To know the coefficient of every feature slope\n",
    "coeff_df = pd.DataFrame(regressor.coef_, X.columns, columns=['Coefficient'])  \n",
    "coeff_df"
   ]
  },
  {
   "cell_type": "markdown",
   "metadata": {},
   "source": [
    "Based on coefficient of correlation in each feature, we can know that the correlation are really small (mostly below 0.1), which means every feature has a poor correlation with ratings variable."
   ]
  },
  {
   "cell_type": "markdown",
   "metadata": {},
   "source": [
    "### KNNRegressor( ) "
   ]
  },
  {
   "cell_type": "markdown",
   "metadata": {},
   "source": [
    "To use KNNRegressor( ), we will use **sklearn.neighbors, and metrics of mean_squared_error**"
   ]
  },
  {
   "cell_type": "code",
   "execution_count": 263,
   "metadata": {},
   "outputs": [],
   "source": [
    "#import required packages\n",
    "from sklearn import neighbors\n",
    "from sklearn.metrics import mean_squared_error \n",
    "from math import sqrt\n",
    "%matplotlib inline"
   ]
  },
  {
   "cell_type": "code",
   "execution_count": 264,
   "metadata": {},
   "outputs": [],
   "source": [
    "X2 = df2[['cust_type','gender','gross income','A','B','C','Cash','Credit card','eWallet','Electronic accessories','Fashion accessories','Food and beverages','Health and beauty','Home and lifestyle','Sports and travel','day','month','hour']]\n",
    "y2 = df2['rating']"
   ]
  },
  {
   "cell_type": "code",
   "execution_count": 265,
   "metadata": {},
   "outputs": [],
   "source": [
    "#train and test data\n",
    "X2_train, X2_test, y2_train, y2_test = train_test_split(X,y, test_size = 0.2, random_state=0)"
   ]
  },
  {
   "cell_type": "markdown",
   "metadata": {},
   "source": [
    "**KNNRegressor( )** need to be standardize because every feature that we use on the variable has different scales. Standarized make sure the scales become same again."
   ]
  },
  {
   "cell_type": "code",
   "execution_count": 266,
   "metadata": {},
   "outputs": [],
   "source": [
    "scaler = MinMaxScaler(feature_range=(0, 1))\n",
    "\n",
    "x_train_scaled = scaler.fit_transform(X2_train)\n",
    "X2_train = pd.DataFrame(x_train_scaled)\n",
    "\n",
    "x_test_scaled = scaler.fit_transform(X2_test)\n",
    "X2_test = pd.DataFrame(x_test_scaled)"
   ]
  },
  {
   "cell_type": "markdown",
   "metadata": {},
   "source": [
    "Find the Best K value for KNNregressor(), by compare K value with their RMSE:"
   ]
  },
  {
   "cell_type": "code",
   "execution_count": 267,
   "metadata": {},
   "outputs": [
    {
     "name": "stdout",
     "output_type": "stream",
     "text": [
      "RMSE value for k=  1 is: 2.4215181188667576\n",
      "RMSE value for k=  2 is: 2.1673255408452143\n",
      "RMSE value for k=  3 is: 2.0578994144515423\n",
      "RMSE value for k=  4 is: 1.9868686104018052\n",
      "RMSE value for k=  5 is: 1.9502117833712318\n",
      "RMSE value for k=  6 is: 1.9360806629201517\n",
      "RMSE value for k=  7 is: 1.8924689628921803\n",
      "RMSE value for k=  8 is: 1.864014275361109\n",
      "RMSE value for k=  9 is: 1.8242728976055835\n",
      "RMSE value for k=  10 is: 1.8177502578737268\n"
     ]
    }
   ],
   "source": [
    "rmse_val = [] #to store rmse values for different k\n",
    "for K in range(10):\n",
    "    K = K+1\n",
    "    model = neighbors.KNeighborsRegressor(n_neighbors = K)\n",
    "\n",
    "    model.fit(X2_train, y2_train)  #fit the model\n",
    "    pred=model.predict(X2_test) #make prediction on test set\n",
    "    error = sqrt(mean_squared_error(y2_test,pred)) #calculate rmse\n",
    "    rmse_val.append(error) #store rmse values\n",
    "    print('RMSE value for k= ' , K , 'is:', error)"
   ]
  },
  {
   "cell_type": "code",
   "execution_count": 268,
   "metadata": {},
   "outputs": [
    {
     "data": {
      "text/plain": [
       "<matplotlib.axes._subplots.AxesSubplot at 0x7f9c4b0dfad0>"
      ]
     },
     "execution_count": 268,
     "metadata": {},
     "output_type": "execute_result"
    },
    {
     "data": {
      "image/png": "[encoded data removed]",
      "text/plain": [
       "<Figure size 432x288 with 1 Axes>"
      ]
     },
     "metadata": {
      "needs_background": "light"
     },
     "output_type": "display_data"
    }
   ],
   "source": [
    "#plotting the rmse values against k values\n",
    "curve = pd.DataFrame(rmse_val) #elbow curve \n",
    "curve.plot()"
   ]
  },
  {
   "cell_type": "markdown",
   "metadata": {},
   "source": [
    "Based on the data shown above, we can use n-neighbors = 9, because after 9, k-neighbors number tend to be constant."
   ]
  },
  {
   "cell_type": "code",
   "execution_count": 269,
   "metadata": {},
   "outputs": [
    {
     "data": {
      "text/plain": [
       "KNeighborsRegressor(algorithm='auto', leaf_size=30, metric='minkowski',\n",
       "                    metric_params=None, n_jobs=None, n_neighbors=9, p=2,\n",
       "                    weights='uniform')"
      ]
     },
     "execution_count": 269,
     "metadata": {},
     "output_type": "execute_result"
    }
   ],
   "source": [
    "reg = KNeighborsRegressor(n_neighbors=9)\n",
    "reg.fit(X2_train, y2_train)"
   ]
  },
  {
   "cell_type": "markdown",
   "metadata": {},
   "source": [
    "## Evaluation"
   ]
  },
  {
   "cell_type": "markdown",
   "metadata": {},
   "source": [
    "Evaluate both of methodologies and machine learning"
   ]
  },
  {
   "cell_type": "markdown",
   "metadata": {},
   "source": [
    "### MultiRegression"
   ]
  },
  {
   "cell_type": "markdown",
   "metadata": {},
   "source": [
    "Find Y predicted and compate Y (predict) with Y (actual) score."
   ]
  },
  {
   "cell_type": "code",
   "execution_count": 270,
   "metadata": {},
   "outputs": [],
   "source": [
    "y_pred = regressor.predict(X_test)"
   ]
  },
  {
   "cell_type": "markdown",
   "metadata": {},
   "source": [
    "Create table where we can compare actual from Y_test and Y_predicted score based on our regression."
   ]
  },
  {
   "cell_type": "code",
   "execution_count": 271,
   "metadata": {},
   "outputs": [
    {
     "data": {
      "text/html": [
       "<div>\n",
       "<style scoped>\n",
       "    .dataframe tbody tr th:only-of-type {\n",
       "        vertical-align: middle;\n",
       "    }\n",
       "\n",
       "    .dataframe tbody tr th {\n",
       "        vertical-align: top;\n",
       "    }\n",
       "\n",
       "    .dataframe thead th {\n",
       "        text-align: right;\n",
       "    }\n",
       "</style>\n",
       "<table border=\"1\" class=\"dataframe\">\n",
       "  <thead>\n",
       "    <tr style=\"text-align: right;\">\n",
       "      <th></th>\n",
       "      <th>Actual</th>\n",
       "      <th>Predicted</th>\n",
       "    </tr>\n",
       "  </thead>\n",
       "  <tbody>\n",
       "    <tr>\n",
       "      <td>993</td>\n",
       "      <td>6.5</td>\n",
       "      <td>6.797570</td>\n",
       "    </tr>\n",
       "    <tr>\n",
       "      <td>859</td>\n",
       "      <td>7.2</td>\n",
       "      <td>6.870647</td>\n",
       "    </tr>\n",
       "    <tr>\n",
       "      <td>298</td>\n",
       "      <td>7.6</td>\n",
       "      <td>7.043751</td>\n",
       "    </tr>\n",
       "    <tr>\n",
       "      <td>553</td>\n",
       "      <td>4.3</td>\n",
       "      <td>6.994484</td>\n",
       "    </tr>\n",
       "    <tr>\n",
       "      <td>672</td>\n",
       "      <td>8.5</td>\n",
       "      <td>7.043249</td>\n",
       "    </tr>\n",
       "    <tr>\n",
       "      <td>971</td>\n",
       "      <td>5.1</td>\n",
       "      <td>7.163521</td>\n",
       "    </tr>\n",
       "    <tr>\n",
       "      <td>27</td>\n",
       "      <td>4.0</td>\n",
       "      <td>7.174578</td>\n",
       "    </tr>\n",
       "    <tr>\n",
       "      <td>231</td>\n",
       "      <td>6.9</td>\n",
       "      <td>6.788973</td>\n",
       "    </tr>\n",
       "    <tr>\n",
       "      <td>306</td>\n",
       "      <td>4.3</td>\n",
       "      <td>6.765513</td>\n",
       "    </tr>\n",
       "    <tr>\n",
       "      <td>706</td>\n",
       "      <td>4.5</td>\n",
       "      <td>6.781582</td>\n",
       "    </tr>\n",
       "  </tbody>\n",
       "</table>\n",
       "</div>"
      ],
      "text/plain": [
       "     Actual  Predicted\n",
       "993     6.5   6.797570\n",
       "859     7.2   6.870647\n",
       "298     7.6   7.043751\n",
       "553     4.3   6.994484\n",
       "672     8.5   7.043249\n",
       "971     5.1   7.163521\n",
       "27      4.0   7.174578\n",
       "231     6.9   6.788973\n",
       "306     4.3   6.765513\n",
       "706     4.5   6.781582"
      ]
     },
     "execution_count": 271,
     "metadata": {},
     "output_type": "execute_result"
    }
   ],
   "source": [
    "df3 = pd.DataFrame({'Actual': y_test, 'Predicted': y_pred})\n",
    "df3.head(10)"
   ]
  },
  {
   "cell_type": "markdown",
   "metadata": {},
   "source": [
    "Calculate **Mean Absolute Error,Mean Squared Error, Root Mean Squared Error, and Rsquared** based on the data."
   ]
  },
  {
   "cell_type": "code",
   "execution_count": 272,
   "metadata": {},
   "outputs": [
    {
     "name": "stdout",
     "output_type": "stream",
     "text": [
      "Mean Absolute Error: 1.516806228203846\n",
      "Mean Squared Error: 3.117067127381921\n",
      "Root Mean Squared Error: 1.765521771993175\n",
      "R squared: -0.05983037889970455\n"
     ]
    }
   ],
   "source": [
    "from sklearn import metrics\n",
    "from sklearn.metrics import r2_score\n",
    "\n",
    "print('Mean Absolute Error:', metrics.mean_absolute_error(y_test, y_pred))  \n",
    "print('Mean Squared Error:', metrics.mean_squared_error(y_test, y_pred))  \n",
    "print('Root Mean Squared Error:', np.sqrt(metrics.mean_squared_error(y_test, y_pred)))\n",
    "print('R squared:', r2_score(y_test,y_pred,multioutput='variance_weighted'))"
   ]
  },
  {
   "cell_type": "markdown",
   "metadata": {},
   "source": [
    "Indicator of good **MAE and RMSE** when around 10% of total mean dependent variable in data."
   ]
  },
  {
   "cell_type": "code",
   "execution_count": 273,
   "metadata": {},
   "outputs": [
    {
     "name": "stdout",
     "output_type": "stream",
     "text": [
      "The percentage of MAE and Mean are 21.753499049203995 %\n",
      "The percentage of RMES and Mean are 25.32048950898757 %\n",
      "R squared: -0.05983037889970455\n"
     ]
    }
   ],
   "source": [
    "mae_ml = metrics.mean_absolute_error(y_test, y_pred)\n",
    "rmes_ml = np.sqrt(metrics.mean_squared_error(y_test, y_pred))\n",
    "mean = df2['rating'].mean()\n",
    "a = mae_ml/mean *100\n",
    "b = rmes_ml/mean * 100\n",
    "\n",
    "print('The percentage of MAE and Mean are', a,'%')\n",
    "print('The percentage of RMES and Mean are', b,'%')\n",
    "print('R squared:', r2_score(y_test,y_pred,multioutput='variance_weighted'))"
   ]
  },
  {
   "attachments": {},
   "cell_type": "markdown",
   "metadata": {},
   "source": [
    "Based on the dataset, we can know that machine learning of Multi Linear Regression **has poor relationship between features that we use and rating variables**. The percentage of **MAE and RMES to mean are more than 10%**, which means that the accuracy of this regression is really poor. Also, the **r squared, or effect size of this relations are below than 0**, which means to create linear regression, they need to force your regression to move to specific point and totally need to be considered for machine learning purpose."
   ]
  },
  {
   "cell_type": "markdown",
   "metadata": {},
   "source": [
    "### KNNRegressor(  ) "
   ]
  },
  {
   "cell_type": "markdown",
   "metadata": {},
   "source": [
    "The step are totally simmilar with evalute **multiregression linear**"
   ]
  },
  {
   "cell_type": "code",
   "execution_count": 274,
   "metadata": {},
   "outputs": [],
   "source": [
    "y2_pred = reg.predict(X2_test)"
   ]
  },
  {
   "cell_type": "code",
   "execution_count": 275,
   "metadata": {},
   "outputs": [
    {
     "data": {
      "text/plain": [
       "-0.13153976571292092"
      ]
     },
     "execution_count": 275,
     "metadata": {},
     "output_type": "execute_result"
    }
   ],
   "source": [
    "reg.score(X2_test, y2_test)"
   ]
  },
  {
   "cell_type": "code",
   "execution_count": 276,
   "metadata": {},
   "outputs": [
    {
     "name": "stdout",
     "output_type": "stream",
     "text": [
      "Mean Absolute Error: 1.5382222222222222\n",
      "Mean Squared Error: 3.3279716049382717\n",
      "Root Mean Squared Error: 1.8242728976055835\n",
      "R squared: -0.13153976571292092\n"
     ]
    }
   ],
   "source": [
    "from sklearn import metrics\n",
    "from sklearn.metrics import r2_score\n",
    "\n",
    "print('Mean Absolute Error:', metrics.mean_absolute_error(y2_test, y2_pred))  \n",
    "print('Mean Squared Error:', metrics.mean_squared_error(y2_test, y2_pred))  \n",
    "print('Root Mean Squared Error:', np.sqrt(metrics.mean_squared_error(y2_test, y2_pred)))\n",
    "print('R squared:', r2_score(y2_test,y2_pred,multioutput='variance_weighted'))"
   ]
  },
  {
   "cell_type": "markdown",
   "metadata": {},
   "source": [
    "Indicator of good **MAE and RMSE** when around 10% of total mean dependent variable in data."
   ]
  },
  {
   "cell_type": "code",
   "execution_count": 277,
   "metadata": {},
   "outputs": [
    {
     "name": "stdout",
     "output_type": "stream",
     "text": [
      "The percentage of MAE and Mean are 22.060639669313513 %\n",
      "The percentage of RMES and Mean are 26.16307739621072 %\n",
      "R squared: -0.13153976571292092\n"
     ]
    }
   ],
   "source": [
    "mae_knn = metrics.mean_absolute_error(y2_test, y2_pred)\n",
    "rmes_knn = np.sqrt(metrics.mean_squared_error(y2_test, y2_pred))\n",
    "mean = df2['rating'].mean()\n",
    "a = mae_knn/mean *100\n",
    "b = rmes_knn/mean * 100\n",
    "\n",
    "print('The percentage of MAE and Mean are', a,'%')\n",
    "print('The percentage of RMES and Mean are', b,'%')\n",
    "print('R squared:', r2_score(y2_test,y2_pred,multioutput='variance_weighted'))"
   ]
  },
  {
   "attachments": {},
   "cell_type": "markdown",
   "metadata": {},
   "source": [
    "Similar with Multi Linear Regression, Machine Learning in KNN-Regression are really poor since the percentage of **MAE and RMES to mean are more than 10% and r square is below than 0**. But, based on comparing scores evaluation between KNN and Multi Linear Regression, **KNN is much better than Multi Linear** although both of them perform really poor."
   ]
  },
  {
   "cell_type": "markdown",
   "metadata": {},
   "source": [
    "# Conclusion"
   ]
  },
  {
   "cell_type": "markdown",
   "metadata": {},
   "source": [
    "Based on Modelling and Evaluation, we can see that **score MAE and RMES** in Multi Linear or KNN-Regression **are more than 10%**. It means that the machine learning is **bad on accuracy**. On the other side, both machine learning has score **R squared below 0**, which means that the **data are really poor and cannot explain the relationship between features and ratings**.\n",
    "\n",
    "Several Reasons why our Machine Learning are really poor:\n",
    "1. Need more data: We need to have a huge amount of data to get the best possible prediction.\n",
    "2. Bad assumptions: We made the assumption that this data has a linear relationship, but that might not be the case. Visualizing the data may help you determine that.\n",
    "3. Poor features: The features we used may not have had a high enough correlation to the values we were trying to predict."
   ]
  }
 ],
 "metadata": {
  "kernelspec": {
   "display_name": "Python 3",
   "language": "python",
   "name": "python3"
  },
  "language_info": {
   "codemirror_mode": {
    "name": "ipython",
    "version": 3
   },
   "file_extension": ".py",
   "mimetype": "text/x-python",
   "name": "python",
   "nbconvert_exporter": "python",
   "pygments_lexer": "ipython3",
   "version": "3.7.4"
  },
  "toc": {
   "base_numbering": 1,
   "nav_menu": {},
   "number_sections": true,
   "sideBar": true,
   "skip_h1_title": false,
   "title_cell": "Table of Contents",
   "title_sidebar": "Contents",
   "toc_cell": false,
   "toc_position": {},
   "toc_section_display": true,
   "toc_window_display": false
  }
 },
 "nbformat": 4,
 "nbformat_minor": 2
}
