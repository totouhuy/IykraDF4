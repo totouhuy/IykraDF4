{
 "cells": [
  {
   "cell_type": "markdown",
   "metadata": {},
   "source": [
    "# RITZ-JAGER HOTEL ANALYSIS"
   ]
  },
  {
   "cell_type": "markdown",
   "metadata": {},
   "source": [
    "You’ve landed a great job with the Ritz-Jager Hotel operator as a data scientist. This hotel operator wants to improve their business efficiency by utilizing their historical data and they want to find out what happened in their previous bookings, knowing their customer better, and optimizing the promo timing.\n",
    "\n",
    "Your team of engineer have to analyze the data that they have based on the pre-defined questions that your CEO gave.\n",
    "\n",
    "Questions:\n",
    "1. Where do the guests come from?\n",
    "2. How much do guests pay for a room per night?\n",
    "3. How does the price per night vary over the year?\n",
    "4. Which are the busiest months?\n",
    "5. How long do people stay at the hotels?\n",
    "6. Bookings by market segment\n",
    "7. How many bookings were cancelled?\n",
    "8. Which month has the highest number of cancellations?"
   ]
  },
  {
   "cell_type": "markdown",
   "metadata": {},
   "source": [
    "Before answering the questions, we will **import pandas**, **read the csv file**, and **try to find general information** about data that we will use for analysis."
   ]
  },
  {
   "cell_type": "code",
   "execution_count": 2,
   "metadata": {},
   "outputs": [],
   "source": [
    "import pandas as pd\n",
    "import matplotlib.pyplot as plt\n",
    "import matplotlib\n",
    "matplotlib.colors\n",
    "matplotlib.colors.rgb_to_hsv\n",
    "matplotlib.colors.to_rgba\n",
    "matplotlib.figure.Figure.get_size_inches\n",
    "matplotlib.figure.Figure.subplots_adjust\n",
    "matplotlib.axes.Axes.text\n",
    "matplotlib.axes.Axes.hlines\n",
    "import seaborn as sns\n",
    "import datetime"
   ]
  },
  {
   "cell_type": "code",
   "execution_count": 3,
   "metadata": {},
   "outputs": [],
   "source": [
    "# convert csv file to dataframe\n",
    "df = pd.read_csv('/Users/raveltowangistu/Desktop/Iykra/Week3/Data Analysis/Ritz_Jager_Data.csv')"
   ]
  },
  {
   "cell_type": "markdown",
   "metadata": {},
   "source": [
    "To understand more about data, we will use:\n",
    "    <br> 1. df.shape( ) --> To know **total rows and columns** in datasets </br>\n",
    "    <br> 2. df.info( ) --> To know the **data types** that will be use in here. </br>\n",
    "    <br> 3. df.head( ) --> To know the **first five data** of the table </br>\n",
    "    <br> 4. df.describe( ) --> To describe the **5 summary** of intergral data </br>\n",
    "    <br> 5. df.isnull.sum( ) --> To know **total null** in each columns of data </br>"
   ]
  },
  {
   "cell_type": "code",
   "execution_count": 4,
   "metadata": {},
   "outputs": [
    {
     "data": {
      "text/plain": [
       "(119390, 32)"
      ]
     },
     "execution_count": 4,
     "metadata": {},
     "output_type": "execute_result"
    }
   ],
   "source": [
    "# To know total rows and columns in data\n",
    "df.shape"
   ]
  },
  {
   "cell_type": "code",
   "execution_count": 5,
   "metadata": {
    "scrolled": true
   },
   "outputs": [
    {
     "name": "stdout",
     "output_type": "stream",
     "text": [
      "<class 'pandas.core.frame.DataFrame'>\n",
      "RangeIndex: 119390 entries, 0 to 119389\n",
      "Data columns (total 32 columns):\n",
      "hotel_type                        119390 non-null object\n",
      "is_canceled                       119390 non-null int64\n",
      "lead_time                         119390 non-null int64\n",
      "arrival_date_year                 119390 non-null int64\n",
      "arrival_date_month                119390 non-null object\n",
      "arrival_date_week_number          119390 non-null int64\n",
      "arrival_date_day_of_month         119390 non-null int64\n",
      "stays_in_weekend_nights           119390 non-null int64\n",
      "stays_in_week_nights              119390 non-null int64\n",
      "adults                            119390 non-null int64\n",
      "children                          119386 non-null float64\n",
      "babies                            119390 non-null int64\n",
      "meal_type                         119390 non-null object\n",
      "country_origin                    118902 non-null object\n",
      "market_segment                    119390 non-null object\n",
      "distribution_channel              119390 non-null object\n",
      "is_repeated_guest                 119390 non-null int64\n",
      "previous_cancellations            119390 non-null int64\n",
      "previous_bookings_not_canceled    119390 non-null int64\n",
      "reserved_room_type                119390 non-null object\n",
      "assigned_room_type                119390 non-null object\n",
      "booking_changes                   119390 non-null int64\n",
      "deposit_type                      119390 non-null object\n",
      "agent                             103050 non-null float64\n",
      "company                           6797 non-null float64\n",
      "days_in_waiting_list              119390 non-null int64\n",
      "customer_type                     119390 non-null object\n",
      "adr                               119390 non-null float64\n",
      "required_car_parking_spaces       119390 non-null int64\n",
      "total_of_special_requests         119390 non-null int64\n",
      "reservation_status                119390 non-null object\n",
      "reservation_status_date           119390 non-null object\n",
      "dtypes: float64(4), int64(16), object(12)\n",
      "memory usage: 29.1+ MB\n"
     ]
    }
   ],
   "source": [
    "#finding datatypes of the data\n",
    "df.info()"
   ]
  },
  {
   "cell_type": "code",
   "execution_count": 6,
   "metadata": {},
   "outputs": [
    {
     "data": {
      "text/html": [
       "<div>\n",
       "<style scoped>\n",
       "    .dataframe tbody tr th:only-of-type {\n",
       "        vertical-align: middle;\n",
       "    }\n",
       "\n",
       "    .dataframe tbody tr th {\n",
       "        vertical-align: top;\n",
       "    }\n",
       "\n",
       "    .dataframe thead th {\n",
       "        text-align: right;\n",
       "    }\n",
       "</style>\n",
       "<table border=\"1\" class=\"dataframe\">\n",
       "  <thead>\n",
       "    <tr style=\"text-align: right;\">\n",
       "      <th></th>\n",
       "      <th>hotel_type</th>\n",
       "      <th>is_canceled</th>\n",
       "      <th>lead_time</th>\n",
       "      <th>arrival_date_year</th>\n",
       "      <th>arrival_date_month</th>\n",
       "      <th>arrival_date_week_number</th>\n",
       "      <th>arrival_date_day_of_month</th>\n",
       "      <th>stays_in_weekend_nights</th>\n",
       "      <th>stays_in_week_nights</th>\n",
       "      <th>adults</th>\n",
       "      <th>...</th>\n",
       "      <th>deposit_type</th>\n",
       "      <th>agent</th>\n",
       "      <th>company</th>\n",
       "      <th>days_in_waiting_list</th>\n",
       "      <th>customer_type</th>\n",
       "      <th>adr</th>\n",
       "      <th>required_car_parking_spaces</th>\n",
       "      <th>total_of_special_requests</th>\n",
       "      <th>reservation_status</th>\n",
       "      <th>reservation_status_date</th>\n",
       "    </tr>\n",
       "  </thead>\n",
       "  <tbody>\n",
       "    <tr>\n",
       "      <td>0</td>\n",
       "      <td>Resort Hotel</td>\n",
       "      <td>0</td>\n",
       "      <td>342</td>\n",
       "      <td>2015</td>\n",
       "      <td>July</td>\n",
       "      <td>27</td>\n",
       "      <td>1</td>\n",
       "      <td>0</td>\n",
       "      <td>0</td>\n",
       "      <td>2</td>\n",
       "      <td>...</td>\n",
       "      <td>No Deposit</td>\n",
       "      <td>NaN</td>\n",
       "      <td>NaN</td>\n",
       "      <td>0</td>\n",
       "      <td>Transient</td>\n",
       "      <td>0.0</td>\n",
       "      <td>0</td>\n",
       "      <td>0</td>\n",
       "      <td>Check-Out</td>\n",
       "      <td>1/7/2015</td>\n",
       "    </tr>\n",
       "    <tr>\n",
       "      <td>1</td>\n",
       "      <td>Resort Hotel</td>\n",
       "      <td>0</td>\n",
       "      <td>737</td>\n",
       "      <td>2015</td>\n",
       "      <td>July</td>\n",
       "      <td>27</td>\n",
       "      <td>1</td>\n",
       "      <td>0</td>\n",
       "      <td>0</td>\n",
       "      <td>2</td>\n",
       "      <td>...</td>\n",
       "      <td>No Deposit</td>\n",
       "      <td>NaN</td>\n",
       "      <td>NaN</td>\n",
       "      <td>0</td>\n",
       "      <td>Transient</td>\n",
       "      <td>0.0</td>\n",
       "      <td>0</td>\n",
       "      <td>0</td>\n",
       "      <td>Check-Out</td>\n",
       "      <td>1/7/2015</td>\n",
       "    </tr>\n",
       "    <tr>\n",
       "      <td>2</td>\n",
       "      <td>Resort Hotel</td>\n",
       "      <td>0</td>\n",
       "      <td>7</td>\n",
       "      <td>2015</td>\n",
       "      <td>July</td>\n",
       "      <td>27</td>\n",
       "      <td>1</td>\n",
       "      <td>0</td>\n",
       "      <td>1</td>\n",
       "      <td>1</td>\n",
       "      <td>...</td>\n",
       "      <td>No Deposit</td>\n",
       "      <td>NaN</td>\n",
       "      <td>NaN</td>\n",
       "      <td>0</td>\n",
       "      <td>Transient</td>\n",
       "      <td>75.0</td>\n",
       "      <td>0</td>\n",
       "      <td>0</td>\n",
       "      <td>Check-Out</td>\n",
       "      <td>2/7/2015</td>\n",
       "    </tr>\n",
       "    <tr>\n",
       "      <td>3</td>\n",
       "      <td>Resort Hotel</td>\n",
       "      <td>0</td>\n",
       "      <td>13</td>\n",
       "      <td>2015</td>\n",
       "      <td>July</td>\n",
       "      <td>27</td>\n",
       "      <td>1</td>\n",
       "      <td>0</td>\n",
       "      <td>1</td>\n",
       "      <td>1</td>\n",
       "      <td>...</td>\n",
       "      <td>No Deposit</td>\n",
       "      <td>304.0</td>\n",
       "      <td>NaN</td>\n",
       "      <td>0</td>\n",
       "      <td>Transient</td>\n",
       "      <td>75.0</td>\n",
       "      <td>0</td>\n",
       "      <td>0</td>\n",
       "      <td>Check-Out</td>\n",
       "      <td>2/7/2015</td>\n",
       "    </tr>\n",
       "    <tr>\n",
       "      <td>4</td>\n",
       "      <td>Resort Hotel</td>\n",
       "      <td>0</td>\n",
       "      <td>14</td>\n",
       "      <td>2015</td>\n",
       "      <td>July</td>\n",
       "      <td>27</td>\n",
       "      <td>1</td>\n",
       "      <td>0</td>\n",
       "      <td>2</td>\n",
       "      <td>2</td>\n",
       "      <td>...</td>\n",
       "      <td>No Deposit</td>\n",
       "      <td>240.0</td>\n",
       "      <td>NaN</td>\n",
       "      <td>0</td>\n",
       "      <td>Transient</td>\n",
       "      <td>98.0</td>\n",
       "      <td>0</td>\n",
       "      <td>1</td>\n",
       "      <td>Check-Out</td>\n",
       "      <td>3/7/2015</td>\n",
       "    </tr>\n",
       "  </tbody>\n",
       "</table>\n",
       "<p>5 rows × 32 columns</p>\n",
       "</div>"
      ],
      "text/plain": [
       "     hotel_type  is_canceled  lead_time  arrival_date_year arrival_date_month  \\\n",
       "0  Resort Hotel            0        342               2015               July   \n",
       "1  Resort Hotel            0        737               2015               July   \n",
       "2  Resort Hotel            0          7               2015               July   \n",
       "3  Resort Hotel            0         13               2015               July   \n",
       "4  Resort Hotel            0         14               2015               July   \n",
       "\n",
       "   arrival_date_week_number  arrival_date_day_of_month  \\\n",
       "0                        27                          1   \n",
       "1                        27                          1   \n",
       "2                        27                          1   \n",
       "3                        27                          1   \n",
       "4                        27                          1   \n",
       "\n",
       "   stays_in_weekend_nights  stays_in_week_nights  adults  ...  deposit_type  \\\n",
       "0                        0                     0       2  ...    No Deposit   \n",
       "1                        0                     0       2  ...    No Deposit   \n",
       "2                        0                     1       1  ...    No Deposit   \n",
       "3                        0                     1       1  ...    No Deposit   \n",
       "4                        0                     2       2  ...    No Deposit   \n",
       "\n",
       "   agent company days_in_waiting_list customer_type   adr  \\\n",
       "0    NaN     NaN                    0     Transient   0.0   \n",
       "1    NaN     NaN                    0     Transient   0.0   \n",
       "2    NaN     NaN                    0     Transient  75.0   \n",
       "3  304.0     NaN                    0     Transient  75.0   \n",
       "4  240.0     NaN                    0     Transient  98.0   \n",
       "\n",
       "   required_car_parking_spaces  total_of_special_requests  reservation_status  \\\n",
       "0                            0                          0           Check-Out   \n",
       "1                            0                          0           Check-Out   \n",
       "2                            0                          0           Check-Out   \n",
       "3                            0                          0           Check-Out   \n",
       "4                            0                          1           Check-Out   \n",
       "\n",
       "  reservation_status_date  \n",
       "0                1/7/2015  \n",
       "1                1/7/2015  \n",
       "2                2/7/2015  \n",
       "3                2/7/2015  \n",
       "4                3/7/2015  \n",
       "\n",
       "[5 rows x 32 columns]"
      ]
     },
     "execution_count": 6,
     "metadata": {},
     "output_type": "execute_result"
    }
   ],
   "source": [
    "#to know the first 5 data that we will use.\n",
    "df.head()"
   ]
  },
  {
   "cell_type": "code",
   "execution_count": 7,
   "metadata": {},
   "outputs": [
    {
     "data": {
      "text/html": [
       "<div>\n",
       "<style scoped>\n",
       "    .dataframe tbody tr th:only-of-type {\n",
       "        vertical-align: middle;\n",
       "    }\n",
       "\n",
       "    .dataframe tbody tr th {\n",
       "        vertical-align: top;\n",
       "    }\n",
       "\n",
       "    .dataframe thead th {\n",
       "        text-align: right;\n",
       "    }\n",
       "</style>\n",
       "<table border=\"1\" class=\"dataframe\">\n",
       "  <thead>\n",
       "    <tr style=\"text-align: right;\">\n",
       "      <th></th>\n",
       "      <th>is_canceled</th>\n",
       "      <th>lead_time</th>\n",
       "      <th>arrival_date_year</th>\n",
       "      <th>arrival_date_week_number</th>\n",
       "      <th>arrival_date_day_of_month</th>\n",
       "      <th>stays_in_weekend_nights</th>\n",
       "      <th>stays_in_week_nights</th>\n",
       "      <th>adults</th>\n",
       "      <th>children</th>\n",
       "      <th>babies</th>\n",
       "      <th>is_repeated_guest</th>\n",
       "      <th>previous_cancellations</th>\n",
       "      <th>previous_bookings_not_canceled</th>\n",
       "      <th>booking_changes</th>\n",
       "      <th>agent</th>\n",
       "      <th>company</th>\n",
       "      <th>days_in_waiting_list</th>\n",
       "      <th>adr</th>\n",
       "      <th>required_car_parking_spaces</th>\n",
       "      <th>total_of_special_requests</th>\n",
       "    </tr>\n",
       "  </thead>\n",
       "  <tbody>\n",
       "    <tr>\n",
       "      <td>count</td>\n",
       "      <td>119390.000000</td>\n",
       "      <td>119390.000000</td>\n",
       "      <td>119390.000000</td>\n",
       "      <td>119390.000000</td>\n",
       "      <td>119390.000000</td>\n",
       "      <td>119390.000000</td>\n",
       "      <td>119390.000000</td>\n",
       "      <td>119390.000000</td>\n",
       "      <td>119386.000000</td>\n",
       "      <td>119390.000000</td>\n",
       "      <td>119390.000000</td>\n",
       "      <td>119390.000000</td>\n",
       "      <td>119390.000000</td>\n",
       "      <td>119390.000000</td>\n",
       "      <td>103050.000000</td>\n",
       "      <td>6797.000000</td>\n",
       "      <td>119390.000000</td>\n",
       "      <td>119390.000000</td>\n",
       "      <td>119390.000000</td>\n",
       "      <td>119390.000000</td>\n",
       "    </tr>\n",
       "    <tr>\n",
       "      <td>mean</td>\n",
       "      <td>0.370416</td>\n",
       "      <td>104.011416</td>\n",
       "      <td>2016.156554</td>\n",
       "      <td>27.165173</td>\n",
       "      <td>15.798241</td>\n",
       "      <td>0.927599</td>\n",
       "      <td>2.500302</td>\n",
       "      <td>1.856403</td>\n",
       "      <td>0.103890</td>\n",
       "      <td>0.007949</td>\n",
       "      <td>0.031912</td>\n",
       "      <td>0.087118</td>\n",
       "      <td>0.137097</td>\n",
       "      <td>0.221124</td>\n",
       "      <td>86.693382</td>\n",
       "      <td>189.266735</td>\n",
       "      <td>2.321149</td>\n",
       "      <td>101.831122</td>\n",
       "      <td>0.062518</td>\n",
       "      <td>0.571363</td>\n",
       "    </tr>\n",
       "    <tr>\n",
       "      <td>std</td>\n",
       "      <td>0.482918</td>\n",
       "      <td>106.863097</td>\n",
       "      <td>0.707476</td>\n",
       "      <td>13.605138</td>\n",
       "      <td>8.780829</td>\n",
       "      <td>0.998613</td>\n",
       "      <td>1.908286</td>\n",
       "      <td>0.579261</td>\n",
       "      <td>0.398561</td>\n",
       "      <td>0.097436</td>\n",
       "      <td>0.175767</td>\n",
       "      <td>0.844336</td>\n",
       "      <td>1.497437</td>\n",
       "      <td>0.652306</td>\n",
       "      <td>110.774548</td>\n",
       "      <td>131.655015</td>\n",
       "      <td>17.594721</td>\n",
       "      <td>50.535790</td>\n",
       "      <td>0.245291</td>\n",
       "      <td>0.792798</td>\n",
       "    </tr>\n",
       "    <tr>\n",
       "      <td>min</td>\n",
       "      <td>0.000000</td>\n",
       "      <td>0.000000</td>\n",
       "      <td>2015.000000</td>\n",
       "      <td>1.000000</td>\n",
       "      <td>1.000000</td>\n",
       "      <td>0.000000</td>\n",
       "      <td>0.000000</td>\n",
       "      <td>0.000000</td>\n",
       "      <td>0.000000</td>\n",
       "      <td>0.000000</td>\n",
       "      <td>0.000000</td>\n",
       "      <td>0.000000</td>\n",
       "      <td>0.000000</td>\n",
       "      <td>0.000000</td>\n",
       "      <td>1.000000</td>\n",
       "      <td>6.000000</td>\n",
       "      <td>0.000000</td>\n",
       "      <td>-6.380000</td>\n",
       "      <td>0.000000</td>\n",
       "      <td>0.000000</td>\n",
       "    </tr>\n",
       "    <tr>\n",
       "      <td>25%</td>\n",
       "      <td>0.000000</td>\n",
       "      <td>18.000000</td>\n",
       "      <td>2016.000000</td>\n",
       "      <td>16.000000</td>\n",
       "      <td>8.000000</td>\n",
       "      <td>0.000000</td>\n",
       "      <td>1.000000</td>\n",
       "      <td>2.000000</td>\n",
       "      <td>0.000000</td>\n",
       "      <td>0.000000</td>\n",
       "      <td>0.000000</td>\n",
       "      <td>0.000000</td>\n",
       "      <td>0.000000</td>\n",
       "      <td>0.000000</td>\n",
       "      <td>9.000000</td>\n",
       "      <td>62.000000</td>\n",
       "      <td>0.000000</td>\n",
       "      <td>69.290000</td>\n",
       "      <td>0.000000</td>\n",
       "      <td>0.000000</td>\n",
       "    </tr>\n",
       "    <tr>\n",
       "      <td>50%</td>\n",
       "      <td>0.000000</td>\n",
       "      <td>69.000000</td>\n",
       "      <td>2016.000000</td>\n",
       "      <td>28.000000</td>\n",
       "      <td>16.000000</td>\n",
       "      <td>1.000000</td>\n",
       "      <td>2.000000</td>\n",
       "      <td>2.000000</td>\n",
       "      <td>0.000000</td>\n",
       "      <td>0.000000</td>\n",
       "      <td>0.000000</td>\n",
       "      <td>0.000000</td>\n",
       "      <td>0.000000</td>\n",
       "      <td>0.000000</td>\n",
       "      <td>14.000000</td>\n",
       "      <td>179.000000</td>\n",
       "      <td>0.000000</td>\n",
       "      <td>94.575000</td>\n",
       "      <td>0.000000</td>\n",
       "      <td>0.000000</td>\n",
       "    </tr>\n",
       "    <tr>\n",
       "      <td>75%</td>\n",
       "      <td>1.000000</td>\n",
       "      <td>160.000000</td>\n",
       "      <td>2017.000000</td>\n",
       "      <td>38.000000</td>\n",
       "      <td>23.000000</td>\n",
       "      <td>2.000000</td>\n",
       "      <td>3.000000</td>\n",
       "      <td>2.000000</td>\n",
       "      <td>0.000000</td>\n",
       "      <td>0.000000</td>\n",
       "      <td>0.000000</td>\n",
       "      <td>0.000000</td>\n",
       "      <td>0.000000</td>\n",
       "      <td>0.000000</td>\n",
       "      <td>229.000000</td>\n",
       "      <td>270.000000</td>\n",
       "      <td>0.000000</td>\n",
       "      <td>126.000000</td>\n",
       "      <td>0.000000</td>\n",
       "      <td>1.000000</td>\n",
       "    </tr>\n",
       "    <tr>\n",
       "      <td>max</td>\n",
       "      <td>1.000000</td>\n",
       "      <td>737.000000</td>\n",
       "      <td>2017.000000</td>\n",
       "      <td>53.000000</td>\n",
       "      <td>31.000000</td>\n",
       "      <td>19.000000</td>\n",
       "      <td>50.000000</td>\n",
       "      <td>55.000000</td>\n",
       "      <td>10.000000</td>\n",
       "      <td>10.000000</td>\n",
       "      <td>1.000000</td>\n",
       "      <td>26.000000</td>\n",
       "      <td>72.000000</td>\n",
       "      <td>21.000000</td>\n",
       "      <td>535.000000</td>\n",
       "      <td>543.000000</td>\n",
       "      <td>391.000000</td>\n",
       "      <td>5400.000000</td>\n",
       "      <td>8.000000</td>\n",
       "      <td>5.000000</td>\n",
       "    </tr>\n",
       "  </tbody>\n",
       "</table>\n",
       "</div>"
      ],
      "text/plain": [
       "         is_canceled      lead_time  arrival_date_year  \\\n",
       "count  119390.000000  119390.000000      119390.000000   \n",
       "mean        0.370416     104.011416        2016.156554   \n",
       "std         0.482918     106.863097           0.707476   \n",
       "min         0.000000       0.000000        2015.000000   \n",
       "25%         0.000000      18.000000        2016.000000   \n",
       "50%         0.000000      69.000000        2016.000000   \n",
       "75%         1.000000     160.000000        2017.000000   \n",
       "max         1.000000     737.000000        2017.000000   \n",
       "\n",
       "       arrival_date_week_number  arrival_date_day_of_month  \\\n",
       "count             119390.000000              119390.000000   \n",
       "mean                  27.165173                  15.798241   \n",
       "std                   13.605138                   8.780829   \n",
       "min                    1.000000                   1.000000   \n",
       "25%                   16.000000                   8.000000   \n",
       "50%                   28.000000                  16.000000   \n",
       "75%                   38.000000                  23.000000   \n",
       "max                   53.000000                  31.000000   \n",
       "\n",
       "       stays_in_weekend_nights  stays_in_week_nights         adults  \\\n",
       "count            119390.000000         119390.000000  119390.000000   \n",
       "mean                  0.927599              2.500302       1.856403   \n",
       "std                   0.998613              1.908286       0.579261   \n",
       "min                   0.000000              0.000000       0.000000   \n",
       "25%                   0.000000              1.000000       2.000000   \n",
       "50%                   1.000000              2.000000       2.000000   \n",
       "75%                   2.000000              3.000000       2.000000   \n",
       "max                  19.000000             50.000000      55.000000   \n",
       "\n",
       "            children         babies  is_repeated_guest  \\\n",
       "count  119386.000000  119390.000000      119390.000000   \n",
       "mean        0.103890       0.007949           0.031912   \n",
       "std         0.398561       0.097436           0.175767   \n",
       "min         0.000000       0.000000           0.000000   \n",
       "25%         0.000000       0.000000           0.000000   \n",
       "50%         0.000000       0.000000           0.000000   \n",
       "75%         0.000000       0.000000           0.000000   \n",
       "max        10.000000      10.000000           1.000000   \n",
       "\n",
       "       previous_cancellations  previous_bookings_not_canceled  \\\n",
       "count           119390.000000                   119390.000000   \n",
       "mean                 0.087118                        0.137097   \n",
       "std                  0.844336                        1.497437   \n",
       "min                  0.000000                        0.000000   \n",
       "25%                  0.000000                        0.000000   \n",
       "50%                  0.000000                        0.000000   \n",
       "75%                  0.000000                        0.000000   \n",
       "max                 26.000000                       72.000000   \n",
       "\n",
       "       booking_changes          agent      company  days_in_waiting_list  \\\n",
       "count    119390.000000  103050.000000  6797.000000         119390.000000   \n",
       "mean          0.221124      86.693382   189.266735              2.321149   \n",
       "std           0.652306     110.774548   131.655015             17.594721   \n",
       "min           0.000000       1.000000     6.000000              0.000000   \n",
       "25%           0.000000       9.000000    62.000000              0.000000   \n",
       "50%           0.000000      14.000000   179.000000              0.000000   \n",
       "75%           0.000000     229.000000   270.000000              0.000000   \n",
       "max          21.000000     535.000000   543.000000            391.000000   \n",
       "\n",
       "                 adr  required_car_parking_spaces  total_of_special_requests  \n",
       "count  119390.000000                119390.000000              119390.000000  \n",
       "mean      101.831122                     0.062518                   0.571363  \n",
       "std        50.535790                     0.245291                   0.792798  \n",
       "min        -6.380000                     0.000000                   0.000000  \n",
       "25%        69.290000                     0.000000                   0.000000  \n",
       "50%        94.575000                     0.000000                   0.000000  \n",
       "75%       126.000000                     0.000000                   1.000000  \n",
       "max      5400.000000                     8.000000                   5.000000  "
      ]
     },
     "execution_count": 7,
     "metadata": {},
     "output_type": "execute_result"
    }
   ],
   "source": [
    "#To describe 5 summary of data that provided\n",
    "df.describe()"
   ]
  },
  {
   "cell_type": "code",
   "execution_count": 8,
   "metadata": {
    "scrolled": true
   },
   "outputs": [
    {
     "data": {
      "text/plain": [
       "company                           112593\n",
       "agent                              16340\n",
       "country_origin                       488\n",
       "children                               4\n",
       "lead_time                              0\n",
       "arrival_date_year                      0\n",
       "arrival_date_month                     0\n",
       "arrival_date_week_number               0\n",
       "is_canceled                            0\n",
       "market_segment                         0\n",
       "arrival_date_day_of_month              0\n",
       "stays_in_weekend_nights                0\n",
       "stays_in_week_nights                   0\n",
       "adults                                 0\n",
       "babies                                 0\n",
       "meal_type                              0\n",
       "reservation_status_date                0\n",
       "distribution_channel                   0\n",
       "reservation_status                     0\n",
       "is_repeated_guest                      0\n",
       "previous_cancellations                 0\n",
       "previous_bookings_not_canceled         0\n",
       "reserved_room_type                     0\n",
       "assigned_room_type                     0\n",
       "booking_changes                        0\n",
       "deposit_type                           0\n",
       "days_in_waiting_list                   0\n",
       "customer_type                          0\n",
       "adr                                    0\n",
       "required_car_parking_spaces            0\n",
       "total_of_special_requests              0\n",
       "hotel_type                             0\n",
       "dtype: int64"
      ]
     },
     "execution_count": 8,
     "metadata": {},
     "output_type": "execute_result"
    }
   ],
   "source": [
    "#To know total null in each columns of data\n",
    "df.isnull().sum().sort_values(ascending = False)"
   ]
  },
  {
   "cell_type": "markdown",
   "metadata": {},
   "source": [
    "## Where do the guests come from?"
   ]
  },
  {
   "cell_type": "markdown",
   "metadata": {},
   "source": [
    "Since the column of **country-origin** have **48 null data**, we need to know is it proper **to erase the data or to fill the data with mode**.\n",
    "<br> In order to know, we will divide **total null data of country_origin** with **total rows in country_origin column**</br>"
   ]
  },
  {
   "cell_type": "code",
   "execution_count": 9,
   "metadata": {},
   "outputs": [
    {
     "data": {
      "text/plain": [
       "0.41042202822492474"
      ]
     },
     "execution_count": 9,
     "metadata": {},
     "output_type": "execute_result"
    }
   ],
   "source": [
    "100*df['country_origin'].isnull().sum() / df['country_origin'].count() "
   ]
  },
  {
   "cell_type": "markdown",
   "metadata": {},
   "source": [
    "Since null data in country_origin only accounts for 0.41% data from total sets. We will erase the row with null data."
   ]
  },
  {
   "cell_type": "code",
   "execution_count": 10,
   "metadata": {
    "scrolled": true
   },
   "outputs": [
    {
     "data": {
      "text/plain": [
       "company                           112279\n",
       "agent                              16006\n",
       "children                               4\n",
       "arrival_date_day_of_month              0\n",
       "meal_type                              0\n",
       "babies                                 0\n",
       "adults                                 0\n",
       "stays_in_week_nights                   0\n",
       "stays_in_weekend_nights                0\n",
       "reservation_status_date                0\n",
       "market_segment                         0\n",
       "arrival_date_week_number               0\n",
       "arrival_date_month                     0\n",
       "arrival_date_year                      0\n",
       "lead_time                              0\n",
       "is_canceled                            0\n",
       "country_origin                         0\n",
       "distribution_channel                   0\n",
       "reservation_status                     0\n",
       "is_repeated_guest                      0\n",
       "previous_cancellations                 0\n",
       "previous_bookings_not_canceled         0\n",
       "reserved_room_type                     0\n",
       "assigned_room_type                     0\n",
       "booking_changes                        0\n",
       "deposit_type                           0\n",
       "days_in_waiting_list                   0\n",
       "customer_type                          0\n",
       "adr                                    0\n",
       "required_car_parking_spaces            0\n",
       "total_of_special_requests              0\n",
       "hotel_type                             0\n",
       "dtype: int64"
      ]
     },
     "execution_count": 10,
     "metadata": {},
     "output_type": "execute_result"
    }
   ],
   "source": [
    "country_from = df.dropna(subset = ['country_origin'],axis = 0, how= 'any')\n",
    "country_from.isnull().sum().sort_values(ascending = False)"
   ]
  },
  {
   "cell_type": "markdown",
   "metadata": {},
   "source": [
    "Since we want to know, where do the guests come from. We want to make sure that the guests are **REALLY COME** to Ritz-Jagger Hotel. In order to do that, we need to make sure that guests are **NOT CANCEL THEIR BOOKINGS**."
   ]
  },
  {
   "cell_type": "code",
   "execution_count": 11,
   "metadata": {},
   "outputs": [
    {
     "data": {
      "text/html": [
       "<div>\n",
       "<style scoped>\n",
       "    .dataframe tbody tr th:only-of-type {\n",
       "        vertical-align: middle;\n",
       "    }\n",
       "\n",
       "    .dataframe tbody tr th {\n",
       "        vertical-align: top;\n",
       "    }\n",
       "\n",
       "    .dataframe thead th {\n",
       "        text-align: right;\n",
       "    }\n",
       "</style>\n",
       "<table border=\"1\" class=\"dataframe\">\n",
       "  <thead>\n",
       "    <tr style=\"text-align: right;\">\n",
       "      <th></th>\n",
       "      <th>country_origin</th>\n",
       "      <th>is_canceled</th>\n",
       "    </tr>\n",
       "  </thead>\n",
       "  <tbody>\n",
       "    <tr>\n",
       "      <td>0</td>\n",
       "      <td>PRT</td>\n",
       "      <td>0</td>\n",
       "    </tr>\n",
       "    <tr>\n",
       "      <td>1</td>\n",
       "      <td>PRT</td>\n",
       "      <td>0</td>\n",
       "    </tr>\n",
       "    <tr>\n",
       "      <td>2</td>\n",
       "      <td>GBR</td>\n",
       "      <td>0</td>\n",
       "    </tr>\n",
       "    <tr>\n",
       "      <td>3</td>\n",
       "      <td>GBR</td>\n",
       "      <td>0</td>\n",
       "    </tr>\n",
       "    <tr>\n",
       "      <td>4</td>\n",
       "      <td>GBR</td>\n",
       "      <td>0</td>\n",
       "    </tr>\n",
       "  </tbody>\n",
       "</table>\n",
       "</div>"
      ],
      "text/plain": [
       "  country_origin  is_canceled\n",
       "0            PRT            0\n",
       "1            PRT            0\n",
       "2            GBR            0\n",
       "3            GBR            0\n",
       "4            GBR            0"
      ]
     },
     "execution_count": 11,
     "metadata": {},
     "output_type": "execute_result"
    }
   ],
   "source": [
    "country_stay = country_from[['country_origin','is_canceled']]\n",
    "fix_country = country_stay[country_stay['is_canceled'] == 0]\n",
    "fix_country.head()"
   ]
  },
  {
   "cell_type": "markdown",
   "metadata": {},
   "source": [
    "To know data with most guests come from, we can use **value_counts** and **sort_values(ascending = False)**. "
   ]
  },
  {
   "cell_type": "code",
   "execution_count": 12,
   "metadata": {},
   "outputs": [
    {
     "data": {
      "text/html": [
       "<div>\n",
       "<style scoped>\n",
       "    .dataframe tbody tr th:only-of-type {\n",
       "        vertical-align: middle;\n",
       "    }\n",
       "\n",
       "    .dataframe tbody tr th {\n",
       "        vertical-align: top;\n",
       "    }\n",
       "\n",
       "    .dataframe thead th {\n",
       "        text-align: right;\n",
       "    }\n",
       "</style>\n",
       "<table border=\"1\" class=\"dataframe\">\n",
       "  <thead>\n",
       "    <tr style=\"text-align: right;\">\n",
       "      <th></th>\n",
       "      <th>index</th>\n",
       "      <th>country_origin</th>\n",
       "    </tr>\n",
       "  </thead>\n",
       "  <tbody>\n",
       "    <tr>\n",
       "      <td>0</td>\n",
       "      <td>PRT</td>\n",
       "      <td>21071</td>\n",
       "    </tr>\n",
       "    <tr>\n",
       "      <td>1</td>\n",
       "      <td>GBR</td>\n",
       "      <td>9676</td>\n",
       "    </tr>\n",
       "    <tr>\n",
       "      <td>2</td>\n",
       "      <td>FRA</td>\n",
       "      <td>8481</td>\n",
       "    </tr>\n",
       "    <tr>\n",
       "      <td>3</td>\n",
       "      <td>ESP</td>\n",
       "      <td>6391</td>\n",
       "    </tr>\n",
       "    <tr>\n",
       "      <td>4</td>\n",
       "      <td>DEU</td>\n",
       "      <td>6069</td>\n",
       "    </tr>\n",
       "    <tr>\n",
       "      <td>...</td>\n",
       "      <td>...</td>\n",
       "      <td>...</td>\n",
       "    </tr>\n",
       "    <tr>\n",
       "      <td>160</td>\n",
       "      <td>BHR</td>\n",
       "      <td>1</td>\n",
       "    </tr>\n",
       "    <tr>\n",
       "      <td>161</td>\n",
       "      <td>SLE</td>\n",
       "      <td>1</td>\n",
       "    </tr>\n",
       "    <tr>\n",
       "      <td>162</td>\n",
       "      <td>DMA</td>\n",
       "      <td>1</td>\n",
       "    </tr>\n",
       "    <tr>\n",
       "      <td>163</td>\n",
       "      <td>BFA</td>\n",
       "      <td>1</td>\n",
       "    </tr>\n",
       "    <tr>\n",
       "      <td>164</td>\n",
       "      <td>LCA</td>\n",
       "      <td>1</td>\n",
       "    </tr>\n",
       "  </tbody>\n",
       "</table>\n",
       "<p>165 rows × 2 columns</p>\n",
       "</div>"
      ],
      "text/plain": [
       "    index  country_origin\n",
       "0     PRT           21071\n",
       "1     GBR            9676\n",
       "2     FRA            8481\n",
       "3     ESP            6391\n",
       "4     DEU            6069\n",
       "..    ...             ...\n",
       "160   BHR               1\n",
       "161   SLE               1\n",
       "162   DMA               1\n",
       "163   BFA               1\n",
       "164   LCA               1\n",
       "\n",
       "[165 rows x 2 columns]"
      ]
     },
     "execution_count": 12,
     "metadata": {},
     "output_type": "execute_result"
    }
   ],
   "source": [
    "fix_country['country_origin'].value_counts().sort_values(ascending = False).reset_index()"
   ]
  },
  {
   "cell_type": "markdown",
   "metadata": {},
   "source": [
    "Based on data above, we know there are **total 177 countries** that went to Ritz-Jaget Hotel. To make it easy, let's use **bar graph for the 5 top countries**. "
   ]
  },
  {
   "cell_type": "code",
   "execution_count": 13,
   "metadata": {},
   "outputs": [
    {
     "name": "stderr",
     "output_type": "stream",
     "text": [
      "/Users/raveltowangistu/opt/anaconda3/lib/python3.7/site-packages/ipykernel_launcher.py:9: MatplotlibDeprecationWarning: Adding an axes using the same arguments as a previous axes currently reuses the earlier instance.  In a future version, a new instance will always be created and returned.  Meanwhile, this warning can be suppressed, and the future behavior ensured, by passing a unique label to each axes instance.\n",
      "  if __name__ == '__main__':\n"
     ]
    },
    {
     "data": {
      "image/png": "[encoded data removed]",
      "text/plain": [
       "<Figure size 432x288 with 1 Axes>"
      ]
     },
     "metadata": {},
     "output_type": "display_data"
    }
   ],
   "source": [
    "#create new column that consists of country_origin total value per country\n",
    "fix_country = fix_country['country_origin'].value_counts().rename_axis('country_code').reset_index()\n",
    "fix_country.head()\n",
    "\n",
    "#Create bar that show the highest 5 country\n",
    "sns.set_style('darkgrid')\n",
    "sns.set_palette('pastel')\n",
    "plt.bar(fix_country['country_code'][0:5],fix_country['country_origin'][0:5])\n",
    "ax = plt.subplot()\n",
    "ax.set_xticks([0,1,2,3,4,5])\n",
    "#Change name that more apropiate to users\n",
    "ax.set_xticklabels(['Portugal','Britain','France','Spain','Germany'])\n",
    "plt.title('Most of the guests come from Portugal, Britain, France, Spain and Germany')\n",
    "plt.show()\n"
   ]
  },
  {
   "cell_type": "markdown",
   "metadata": {},
   "source": [
    "**INTERPRETATION**:\n",
    "<br> Based on the data, the top 5 countries who visit Ritz-Jager Hotel are **Portugal** (21071) ,**Britain** (9767) , **France** (8481) , **Spain** (6391) , and **Germany** (6069). </br>"
   ]
  },
  {
   "cell_type": "markdown",
   "metadata": {},
   "source": [
    "## How much do guests pay for a room per night?"
   ]
  },
  {
   "cell_type": "markdown",
   "metadata": {},
   "source": [
    "To know the price, we can calculate **mean** of the price based on all guests. **Is_canceled need to be 0**, because guests only pay room when they actually sleep on there.\n",
    "\n",
    "On the other side, we will calculate average price of per room because number of guests have low correlation with total rooms (for example, having one guests and one family, they still need to rent one rooms)."
   ]
  },
  {
   "cell_type": "code",
   "execution_count": 25,
   "metadata": {},
   "outputs": [
    {
     "name": "stdout",
     "output_type": "stream",
     "text": [
      "Guest need to pay for a room per night are around 99.9876929728839 +/- 49.20626332561226\n"
     ]
    }
   ],
   "source": [
    "#create df from adr and is_canceled\n",
    "price = df[['adr','is_canceled']]\n",
    "#create df only when is_canceled is not happen\n",
    "price = price[price['is_canceled']==0]\n",
    "#find the mean\n",
    "mean_price = price['adr'].mean()\n",
    "std_price = price['adr'].std()\n",
    "print('Guest need to pay for a room per night are around ' + str(mean_price) + ' +/- ' + str(std_price))"
   ]
  },
  {
   "cell_type": "markdown",
   "metadata": {},
   "source": [
    "**INTERPRETATION**:\n",
    "<br> Based on the data, guests need to pay are around $ 99.987 (avg) and $ 49.206 (std) dollar. </br>"
   ]
  },
  {
   "cell_type": "markdown",
   "metadata": {},
   "source": [
    "## How does the price per night vary over the year?"
   ]
  },
  {
   "cell_type": "markdown",
   "metadata": {},
   "source": [
    "To know variation price per night, we will use comparison between **Year Arrival** and **Average Daily Rate**."
   ]
  },
  {
   "cell_type": "markdown",
   "metadata": {},
   "source": [
    "Since the average daily rate (ADR) measures the average rental revenue earned for **an occupied room per day** , we need only use data where guests are **not cancel their bookings or 'is_canceled' == 0**."
   ]
  },
  {
   "cell_type": "code",
   "execution_count": 26,
   "metadata": {},
   "outputs": [
    {
     "data": {
      "text/html": [
       "<div>\n",
       "<style scoped>\n",
       "    .dataframe tbody tr th:only-of-type {\n",
       "        vertical-align: middle;\n",
       "    }\n",
       "\n",
       "    .dataframe tbody tr th {\n",
       "        vertical-align: top;\n",
       "    }\n",
       "\n",
       "    .dataframe thead th {\n",
       "        text-align: right;\n",
       "    }\n",
       "</style>\n",
       "<table border=\"1\" class=\"dataframe\">\n",
       "  <thead>\n",
       "    <tr style=\"text-align: right;\">\n",
       "      <th></th>\n",
       "      <th>arrival_date_year</th>\n",
       "      <th>adr</th>\n",
       "    </tr>\n",
       "  </thead>\n",
       "  <tbody>\n",
       "    <tr>\n",
       "      <td>0</td>\n",
       "      <td>2015</td>\n",
       "      <td>88.714191</td>\n",
       "    </tr>\n",
       "    <tr>\n",
       "      <td>1</td>\n",
       "      <td>2016</td>\n",
       "      <td>96.515912</td>\n",
       "    </tr>\n",
       "    <tr>\n",
       "      <td>2</td>\n",
       "      <td>2017</td>\n",
       "      <td>111.312036</td>\n",
       "    </tr>\n",
       "  </tbody>\n",
       "</table>\n",
       "</div>"
      ],
      "text/plain": [
       "   arrival_date_year         adr\n",
       "0               2015   88.714191\n",
       "1               2016   96.515912\n",
       "2               2017  111.312036"
      ]
     },
     "execution_count": 26,
     "metadata": {},
     "output_type": "execute_result"
    }
   ],
   "source": [
    "#Create new dataframe that consists only arrival year, status of booking, and average daily rate.\n",
    "year_price = df[['arrival_date_year','arrival_date_month','is_canceled','adr']]\n",
    "\n",
    "#Only use data that the booking aren't been canceled. so is_canceled == 0\n",
    "year_price = year_price[year_price['is_canceled'] == 0]\n",
    "\n",
    "#Use groupby based on year, to know adr in every year\n",
    "year_price_groupby = year_price.groupby('arrival_date_year')['adr'].mean().reset_index()\n",
    "year_price_groupby.head()"
   ]
  },
  {
   "cell_type": "markdown",
   "metadata": {},
   "source": [
    "After knowing the number, let's make **the graph**"
   ]
  },
  {
   "cell_type": "code",
   "execution_count": 27,
   "metadata": {},
   "outputs": [
    {
     "name": "stderr",
     "output_type": "stream",
     "text": [
      "/Users/raveltowangistu/opt/anaconda3/lib/python3.7/site-packages/ipykernel_launcher.py:4: MatplotlibDeprecationWarning: Adding an axes using the same arguments as a previous axes currently reuses the earlier instance.  In a future version, a new instance will always be created and returned.  Meanwhile, this warning can be suppressed, and the future behavior ensured, by passing a unique label to each axes instance.\n",
      "  after removing the cwd from sys.path.\n"
     ]
    },
    {
     "data": {
      "image/png": "[encoded data removed]",
      "text/plain": [
       "<Figure size 432x288 with 1 Axes>"
      ]
     },
     "metadata": {},
     "output_type": "display_data"
    }
   ],
   "source": [
    "sns.set_style('darkgrid')\n",
    "sns.set_palette('pastel')\n",
    "plt.bar(year_price_groupby['arrival_date_year'],year_price_groupby['adr'],color='c',tick_label = df['arrival_date_year'].unique().tolist())\n",
    "ax = plt.subplot()\n",
    "plt.title('Price per Night Over per Year Increase Each year')\n",
    "plt.show()"
   ]
  },
  {
   "cell_type": "markdown",
   "metadata": {},
   "source": [
    "On the other side, we can also know the price of hotel in every months."
   ]
  },
  {
   "cell_type": "code",
   "execution_count": 28,
   "metadata": {},
   "outputs": [
    {
     "data": {
      "text/html": [
       "<div>\n",
       "<style scoped>\n",
       "    .dataframe tbody tr th:only-of-type {\n",
       "        vertical-align: middle;\n",
       "    }\n",
       "\n",
       "    .dataframe tbody tr th {\n",
       "        vertical-align: top;\n",
       "    }\n",
       "\n",
       "    .dataframe thead th {\n",
       "        text-align: right;\n",
       "    }\n",
       "</style>\n",
       "<table border=\"1\" class=\"dataframe\">\n",
       "  <thead>\n",
       "    <tr style=\"text-align: right;\">\n",
       "      <th></th>\n",
       "      <th>arrival_date_month</th>\n",
       "      <th>adr</th>\n",
       "    </tr>\n",
       "  </thead>\n",
       "  <tbody>\n",
       "    <tr>\n",
       "      <td>0</td>\n",
       "      <td>August</td>\n",
       "      <td>142.088795</td>\n",
       "    </tr>\n",
       "    <tr>\n",
       "      <td>1</td>\n",
       "      <td>July</td>\n",
       "      <td>129.253758</td>\n",
       "    </tr>\n",
       "    <tr>\n",
       "      <td>2</td>\n",
       "      <td>June</td>\n",
       "      <td>114.589636</td>\n",
       "    </tr>\n",
       "    <tr>\n",
       "      <td>3</td>\n",
       "      <td>September</td>\n",
       "      <td>107.277159</td>\n",
       "    </tr>\n",
       "    <tr>\n",
       "      <td>4</td>\n",
       "      <td>May</td>\n",
       "      <td>104.842342</td>\n",
       "    </tr>\n",
       "    <tr>\n",
       "      <td>5</td>\n",
       "      <td>April</td>\n",
       "      <td>97.877849</td>\n",
       "    </tr>\n",
       "    <tr>\n",
       "      <td>6</td>\n",
       "      <td>October</td>\n",
       "      <td>86.830198</td>\n",
       "    </tr>\n",
       "    <tr>\n",
       "      <td>7</td>\n",
       "      <td>December</td>\n",
       "      <td>78.920238</td>\n",
       "    </tr>\n",
       "    <tr>\n",
       "      <td>8</td>\n",
       "      <td>March</td>\n",
       "      <td>77.331574</td>\n",
       "    </tr>\n",
       "    <tr>\n",
       "      <td>9</td>\n",
       "      <td>February</td>\n",
       "      <td>72.419429</td>\n",
       "    </tr>\n",
       "    <tr>\n",
       "      <td>10</td>\n",
       "      <td>November</td>\n",
       "      <td>70.505169</td>\n",
       "    </tr>\n",
       "    <tr>\n",
       "      <td>11</td>\n",
       "      <td>January</td>\n",
       "      <td>67.001050</td>\n",
       "    </tr>\n",
       "  </tbody>\n",
       "</table>\n",
       "</div>"
      ],
      "text/plain": [
       "   arrival_date_month         adr\n",
       "0              August  142.088795\n",
       "1                July  129.253758\n",
       "2                June  114.589636\n",
       "3           September  107.277159\n",
       "4                 May  104.842342\n",
       "5               April   97.877849\n",
       "6             October   86.830198\n",
       "7            December   78.920238\n",
       "8               March   77.331574\n",
       "9            February   72.419429\n",
       "10           November   70.505169\n",
       "11            January   67.001050"
      ]
     },
     "execution_count": 28,
     "metadata": {},
     "output_type": "execute_result"
    }
   ],
   "source": [
    "month_price_groupby = year_price.groupby('arrival_date_month')['adr'].mean().sort_values(ascending = False).reset_index()\n",
    "month_price_groupby"
   ]
  },
  {
   "cell_type": "code",
   "execution_count": 29,
   "metadata": {},
   "outputs": [
    {
     "name": "stderr",
     "output_type": "stream",
     "text": [
      "/Users/raveltowangistu/opt/anaconda3/lib/python3.7/site-packages/ipykernel_launcher.py:6: MatplotlibDeprecationWarning: Adding an axes using the same arguments as a previous axes currently reuses the earlier instance.  In a future version, a new instance will always be created and returned.  Meanwhile, this warning can be suppressed, and the future behavior ensured, by passing a unique label to each axes instance.\n",
      "  \n"
     ]
    },
    {
     "data": {
      "image/png": "[encoded data removed]",
      "text/plain": [
       "<Figure size 432x288 with 1 Axes>"
      ]
     },
     "metadata": {},
     "output_type": "display_data"
    }
   ],
   "source": [
    "sns.set_style('darkgrid')\n",
    "sns.set_palette('pastel')\n",
    "plt.bar(month_price_groupby['arrival_date_month'][0],month_price_groupby['adr'][0])\n",
    "plt.bar(month_price_groupby['arrival_date_month'][1],month_price_groupby['adr'][1])\n",
    "plt.bar(month_price_groupby['arrival_date_month'][2],month_price_groupby['adr'][2])\n",
    "ax = plt.subplot()\n",
    "plt.title('Top 3 Months With Highest Price')\n",
    "plt.show()"
   ]
  },
  {
   "cell_type": "markdown",
   "metadata": {},
   "source": [
    "**INTERPRETATION :**\n",
    "<br> Price **tend to inflated** throughout years from 2015 to 2017. The highest happen price happen on **August** month </br>"
   ]
  },
  {
   "cell_type": "markdown",
   "metadata": {},
   "source": [
    "## Which are the busiest months?"
   ]
  },
  {
   "cell_type": "markdown",
   "metadata": {},
   "source": [
    "To know the busiest months, we can use **month arrival and count the total**."
   ]
  },
  {
   "cell_type": "code",
   "execution_count": 30,
   "metadata": {},
   "outputs": [
    {
     "data": {
      "text/html": [
       "<div>\n",
       "<style scoped>\n",
       "    .dataframe tbody tr th:only-of-type {\n",
       "        vertical-align: middle;\n",
       "    }\n",
       "\n",
       "    .dataframe tbody tr th {\n",
       "        vertical-align: top;\n",
       "    }\n",
       "\n",
       "    .dataframe thead th {\n",
       "        text-align: right;\n",
       "    }\n",
       "</style>\n",
       "<table border=\"1\" class=\"dataframe\">\n",
       "  <thead>\n",
       "    <tr style=\"text-align: right;\">\n",
       "      <th></th>\n",
       "      <th>index</th>\n",
       "      <th>arrival_date_month</th>\n",
       "    </tr>\n",
       "  </thead>\n",
       "  <tbody>\n",
       "    <tr>\n",
       "      <td>0</td>\n",
       "      <td>January</td>\n",
       "      <td>5929</td>\n",
       "    </tr>\n",
       "    <tr>\n",
       "      <td>1</td>\n",
       "      <td>December</td>\n",
       "      <td>6780</td>\n",
       "    </tr>\n",
       "    <tr>\n",
       "      <td>2</td>\n",
       "      <td>November</td>\n",
       "      <td>6794</td>\n",
       "    </tr>\n",
       "    <tr>\n",
       "      <td>3</td>\n",
       "      <td>February</td>\n",
       "      <td>8068</td>\n",
       "    </tr>\n",
       "    <tr>\n",
       "      <td>4</td>\n",
       "      <td>March</td>\n",
       "      <td>9794</td>\n",
       "    </tr>\n",
       "    <tr>\n",
       "      <td>5</td>\n",
       "      <td>September</td>\n",
       "      <td>10508</td>\n",
       "    </tr>\n",
       "    <tr>\n",
       "      <td>6</td>\n",
       "      <td>June</td>\n",
       "      <td>10939</td>\n",
       "    </tr>\n",
       "    <tr>\n",
       "      <td>7</td>\n",
       "      <td>April</td>\n",
       "      <td>11089</td>\n",
       "    </tr>\n",
       "    <tr>\n",
       "      <td>8</td>\n",
       "      <td>October</td>\n",
       "      <td>11160</td>\n",
       "    </tr>\n",
       "    <tr>\n",
       "      <td>9</td>\n",
       "      <td>May</td>\n",
       "      <td>11791</td>\n",
       "    </tr>\n",
       "    <tr>\n",
       "      <td>10</td>\n",
       "      <td>July</td>\n",
       "      <td>12661</td>\n",
       "    </tr>\n",
       "    <tr>\n",
       "      <td>11</td>\n",
       "      <td>August</td>\n",
       "      <td>13877</td>\n",
       "    </tr>\n",
       "  </tbody>\n",
       "</table>\n",
       "</div>"
      ],
      "text/plain": [
       "        index  arrival_date_month\n",
       "0     January                5929\n",
       "1    December                6780\n",
       "2    November                6794\n",
       "3    February                8068\n",
       "4       March                9794\n",
       "5   September               10508\n",
       "6        June               10939\n",
       "7       April               11089\n",
       "8     October               11160\n",
       "9         May               11791\n",
       "10       July               12661\n",
       "11     August               13877"
      ]
     },
     "execution_count": 30,
     "metadata": {},
     "output_type": "execute_result"
    }
   ],
   "source": [
    "busiest_month = df['arrival_date_month']\n",
    "busiest_month = busiest_month.value_counts().sort_values(ascending = True).reset_index()\n",
    "busiest_month"
   ]
  },
  {
   "cell_type": "markdown",
   "metadata": {},
   "source": [
    "To make sure and better visualization, lets make the graph!"
   ]
  },
  {
   "cell_type": "code",
   "execution_count": 31,
   "metadata": {},
   "outputs": [
    {
     "name": "stderr",
     "output_type": "stream",
     "text": [
      "/Users/raveltowangistu/opt/anaconda3/lib/python3.7/site-packages/ipykernel_launcher.py:2: MatplotlibDeprecationWarning: Adding an axes using the same arguments as a previous axes currently reuses the earlier instance.  In a future version, a new instance will always be created and returned.  Meanwhile, this warning can be suppressed, and the future behavior ensured, by passing a unique label to each axes instance.\n",
      "  \n"
     ]
    },
    {
     "data": {
      "image/png": "[encoded data removed]",
      "text/plain": [
       "<Figure size 432x288 with 1 Axes>"
      ]
     },
     "metadata": {},
     "output_type": "display_data"
    }
   ],
   "source": [
    "plt.barh(busiest_month['index'],busiest_month['arrival_date_month'],color='indigo')\n",
    "ax = plt.subplot()\n",
    "plt.title('Busiest Month in Ritz-Jagger Hotel Are August, July, and May')\n",
    "plt.legend(['times of arrival'])\n",
    "plt.show()"
   ]
  },
  {
   "cell_type": "markdown",
   "metadata": {},
   "source": [
    "**INTERPRETATION :**\n",
    "<br> Busiest month in Ritz-Jagger are **August** (13387), **July** (12661), and **May** (11791)</br>"
   ]
  },
  {
   "cell_type": "markdown",
   "metadata": {},
   "source": [
    "## How long do people stay at the hotels?"
   ]
  },
  {
   "cell_type": "markdown",
   "metadata": {},
   "source": [
    "To know how long do people stay, we will summary use **mean, std, and median**. "
   ]
  },
  {
   "cell_type": "code",
   "execution_count": 32,
   "metadata": {},
   "outputs": [],
   "source": [
    "#save variable ('stay_weekday') and ('stay_weekend') into total_stay\n",
    "df['total_stay'] = df['stays_in_week_nights'] + df['stays_in_weekend_nights']\n",
    "#create new variable consists of column stay weekday, weekend, and total\n",
    "stay = df[['stays_in_week_nights','stays_in_weekend_nights','total_stay']]"
   ]
  },
  {
   "cell_type": "code",
   "execution_count": 33,
   "metadata": {},
   "outputs": [
    {
     "data": {
      "text/html": [
       "<div>\n",
       "<style scoped>\n",
       "    .dataframe tbody tr th:only-of-type {\n",
       "        vertical-align: middle;\n",
       "    }\n",
       "\n",
       "    .dataframe tbody tr th {\n",
       "        vertical-align: top;\n",
       "    }\n",
       "\n",
       "    .dataframe thead th {\n",
       "        text-align: right;\n",
       "    }\n",
       "</style>\n",
       "<table border=\"1\" class=\"dataframe\">\n",
       "  <thead>\n",
       "    <tr style=\"text-align: right;\">\n",
       "      <th></th>\n",
       "      <th>stays_in_week_nights</th>\n",
       "      <th>stays_in_weekend_nights</th>\n",
       "      <th>total_stay</th>\n",
       "    </tr>\n",
       "  </thead>\n",
       "  <tbody>\n",
       "    <tr>\n",
       "      <td>count</td>\n",
       "      <td>119390.000000</td>\n",
       "      <td>119390.000000</td>\n",
       "      <td>119390.000000</td>\n",
       "    </tr>\n",
       "    <tr>\n",
       "      <td>mean</td>\n",
       "      <td>2.500302</td>\n",
       "      <td>0.927599</td>\n",
       "      <td>3.427900</td>\n",
       "    </tr>\n",
       "    <tr>\n",
       "      <td>std</td>\n",
       "      <td>1.908286</td>\n",
       "      <td>0.998613</td>\n",
       "      <td>2.557439</td>\n",
       "    </tr>\n",
       "    <tr>\n",
       "      <td>min</td>\n",
       "      <td>0.000000</td>\n",
       "      <td>0.000000</td>\n",
       "      <td>0.000000</td>\n",
       "    </tr>\n",
       "    <tr>\n",
       "      <td>25%</td>\n",
       "      <td>1.000000</td>\n",
       "      <td>0.000000</td>\n",
       "      <td>2.000000</td>\n",
       "    </tr>\n",
       "    <tr>\n",
       "      <td>50%</td>\n",
       "      <td>2.000000</td>\n",
       "      <td>1.000000</td>\n",
       "      <td>3.000000</td>\n",
       "    </tr>\n",
       "    <tr>\n",
       "      <td>75%</td>\n",
       "      <td>3.000000</td>\n",
       "      <td>2.000000</td>\n",
       "      <td>4.000000</td>\n",
       "    </tr>\n",
       "    <tr>\n",
       "      <td>max</td>\n",
       "      <td>50.000000</td>\n",
       "      <td>19.000000</td>\n",
       "      <td>69.000000</td>\n",
       "    </tr>\n",
       "  </tbody>\n",
       "</table>\n",
       "</div>"
      ],
      "text/plain": [
       "       stays_in_week_nights  stays_in_weekend_nights     total_stay\n",
       "count         119390.000000            119390.000000  119390.000000\n",
       "mean               2.500302                 0.927599       3.427900\n",
       "std                1.908286                 0.998613       2.557439\n",
       "min                0.000000                 0.000000       0.000000\n",
       "25%                1.000000                 0.000000       2.000000\n",
       "50%                2.000000                 1.000000       3.000000\n",
       "75%                3.000000                 2.000000       4.000000\n",
       "max               50.000000                19.000000      69.000000"
      ]
     },
     "execution_count": 33,
     "metadata": {},
     "output_type": "execute_result"
    }
   ],
   "source": [
    "#describe the variabel\n",
    "stay.describe()"
   ]
  },
  {
   "cell_type": "markdown",
   "metadata": {},
   "source": [
    "After knowing mean, median, and std, we will use **histogram** to know the distribution of how people stay."
   ]
  },
  {
   "cell_type": "code",
   "execution_count": 34,
   "metadata": {},
   "outputs": [
    {
     "data": {
      "image/png": "[encoded data removed]",
      "text/plain": [
       "<Figure size 432x288 with 1 Axes>"
      ]
     },
     "metadata": {},
     "output_type": "display_data"
    }
   ],
   "source": [
    "plt.hist(df['total_stay'], alpha = 0.5)\n",
    "plt.hist(df['stays_in_week_nights'], alpha = 0.5)\n",
    "plt.hist(df['stays_in_weekend_nights'], alpha = 0.5)\n",
    "plt.legend(['total','weekday','weekend'])\n",
    "plt.title('The distribution of people stay are positive skewed')\n",
    "plt.show()"
   ]
  },
  {
   "cell_type": "markdown",
   "metadata": {},
   "source": [
    "**INTERPRETATION**:\n",
    "<br> Based on **total_stay (M = 3.428, SD = 2.557)**, we can know that people tend to stay in **weekday (M = 2.5, SD = 1.908)** and **weekend (M = 0.928, SD = 0.998)**. The distribution of data is **positively skewed**. </br>"
   ]
  },
  {
   "cell_type": "markdown",
   "metadata": {},
   "source": [
    "## Bookings by market segment"
   ]
  },
  {
   "cell_type": "markdown",
   "metadata": {},
   "source": [
    "Since booking can be calculated by **total booking not cancellation + total booking cancellation**, we will use **is_canceled** row to know booking based by market segment."
   ]
  },
  {
   "cell_type": "code",
   "execution_count": 35,
   "metadata": {},
   "outputs": [
    {
     "data": {
      "text/html": [
       "<div>\n",
       "<style scoped>\n",
       "    .dataframe tbody tr th:only-of-type {\n",
       "        vertical-align: middle;\n",
       "    }\n",
       "\n",
       "    .dataframe tbody tr th {\n",
       "        vertical-align: top;\n",
       "    }\n",
       "\n",
       "    .dataframe thead th {\n",
       "        text-align: right;\n",
       "    }\n",
       "</style>\n",
       "<table border=\"1\" class=\"dataframe\">\n",
       "  <thead>\n",
       "    <tr style=\"text-align: right;\">\n",
       "      <th></th>\n",
       "      <th>market_segment</th>\n",
       "      <th>is_canceled</th>\n",
       "    </tr>\n",
       "  </thead>\n",
       "  <tbody>\n",
       "    <tr>\n",
       "      <td>0</td>\n",
       "      <td>Online TA</td>\n",
       "      <td>56477</td>\n",
       "    </tr>\n",
       "    <tr>\n",
       "      <td>1</td>\n",
       "      <td>Offline TA/TO</td>\n",
       "      <td>24219</td>\n",
       "    </tr>\n",
       "    <tr>\n",
       "      <td>2</td>\n",
       "      <td>Groups</td>\n",
       "      <td>19811</td>\n",
       "    </tr>\n",
       "    <tr>\n",
       "      <td>3</td>\n",
       "      <td>Direct</td>\n",
       "      <td>12606</td>\n",
       "    </tr>\n",
       "    <tr>\n",
       "      <td>4</td>\n",
       "      <td>Corporate</td>\n",
       "      <td>5295</td>\n",
       "    </tr>\n",
       "    <tr>\n",
       "      <td>5</td>\n",
       "      <td>Complementary</td>\n",
       "      <td>743</td>\n",
       "    </tr>\n",
       "    <tr>\n",
       "      <td>6</td>\n",
       "      <td>Aviation</td>\n",
       "      <td>237</td>\n",
       "    </tr>\n",
       "    <tr>\n",
       "      <td>7</td>\n",
       "      <td>Undefined</td>\n",
       "      <td>2</td>\n",
       "    </tr>\n",
       "  </tbody>\n",
       "</table>\n",
       "</div>"
      ],
      "text/plain": [
       "  market_segment  is_canceled\n",
       "0      Online TA        56477\n",
       "1  Offline TA/TO        24219\n",
       "2         Groups        19811\n",
       "3         Direct        12606\n",
       "4      Corporate         5295\n",
       "5  Complementary          743\n",
       "6       Aviation          237\n",
       "7      Undefined            2"
      ]
     },
     "execution_count": 35,
     "metadata": {},
     "output_type": "execute_result"
    }
   ],
   "source": [
    "booking_segment = df[['market_segment','is_canceled']]\n",
    "booking_segment = booking_segment.groupby('market_segment').is_canceled.count().sort_values(ascending = False).reset_index()\n",
    "booking_segment"
   ]
  },
  {
   "cell_type": "code",
   "execution_count": 36,
   "metadata": {
    "scrolled": true
   },
   "outputs": [
    {
     "data": {
      "image/png": "[encoded data removed]",
      "text/plain": [
       "<Figure size 432x288 with 1 Axes>"
      ]
     },
     "metadata": {},
     "output_type": "display_data"
    }
   ],
   "source": [
    "plt.bar(booking_segment['market_segment'][0],booking_segment['is_canceled'][0], color ='khaki')\n",
    "plt.bar(booking_segment['market_segment'][1],booking_segment['is_canceled'][1], color ='coral')\n",
    "plt.bar(booking_segment['market_segment'][2],booking_segment['is_canceled'][2], color ='teal')\n",
    "plt.bar(booking_segment['market_segment'][3],booking_segment['is_canceled'][3], color ='tan')\n",
    "plt.bar(booking_segment['market_segment'][4],booking_segment['is_canceled'][4], color ='plum')\n",
    "plt.title('Online Travel Agent has the highest market segmentation than others')\n",
    "plt.legend(['Online Travel Agent','Offline Travel Agent/Tour Operators','Groups','Direct','Corporate'])\n",
    "plt.show()"
   ]
  },
  {
   "cell_type": "markdown",
   "metadata": {},
   "source": [
    "**INTERPRETATION :**\n",
    "<br> Based on the result,we can know that **Online Travel Agent** (56477), **Offline Travel Agent/Tour Operators** (24219), and **Groups** (19811) are the top 3 highest booking market segment."
   ]
  },
  {
   "cell_type": "markdown",
   "metadata": {},
   "source": [
    "## How many bookings were cancelled?"
   ]
  },
  {
   "cell_type": "markdown",
   "metadata": {},
   "source": [
    "We will create a new dataframe that consists of **year, hotel type, and cancellation condition.**"
   ]
  },
  {
   "cell_type": "code",
   "execution_count": 37,
   "metadata": {},
   "outputs": [
    {
     "name": "stdout",
     "output_type": "stream",
     "text": [
      "There are 44224 cancellation in 2015-2017 on Ritz-Jager Hotel.\n",
      "There are 75166 continued in 2015-2017 on Ritz-Jager Hotel.\n"
     ]
    }
   ],
   "source": [
    "# Create new df consists of arrival year, hotel_type, and is_canceled\n",
    "booking = df[['arrival_date_year','hotel_type','is_canceled']]\n",
    "\n",
    "#create new df where only canceled booking \n",
    "canceled_year = booking[booking['is_canceled']==1]\n",
    "#calculate the total rows\n",
    "total_cancel = canceled_year.is_canceled.count()\n",
    "print('There are ' + str(total_cancel) +' cancellation in 2015-2017 on Ritz-Jager Hotel.' )\n",
    "\n",
    "#create new df where only accepted booking \n",
    "not_canceled_year = booking[booking['is_canceled']==0]\n",
    "#calculate total rows\n",
    "total_not_cancel = not_canceled_year.is_canceled.count()\n",
    "print('There are ' + str(total_not_cancel) +' continued in 2015-2017 on Ritz-Jager Hotel.' )\n"
   ]
  },
  {
   "cell_type": "code",
   "execution_count": 38,
   "metadata": {},
   "outputs": [
    {
     "name": "stderr",
     "output_type": "stream",
     "text": [
      "/Users/raveltowangistu/opt/anaconda3/lib/python3.7/site-packages/ipykernel_launcher.py:2: MatplotlibDeprecationWarning: Adding an axes using the same arguments as a previous axes currently reuses the earlier instance.  In a future version, a new instance will always be created and returned.  Meanwhile, this warning can be suppressed, and the future behavior ensured, by passing a unique label to each axes instance.\n",
      "  \n"
     ]
    },
    {
     "data": {
      "image/png": "[encoded data removed]",
      "text/plain": [
       "<Figure size 432x288 with 1 Axes>"
      ]
     },
     "metadata": {},
     "output_type": "display_data"
    }
   ],
   "source": [
    "sns.countplot(x=\"is_canceled\", data=df)\n",
    "ax = plt.subplot()\n",
    "ax.set_xticks([0,1])\n",
    "ax.set_xticklabels(['Not Canceled','Canceled'])\n",
    "plt.title('Total Cancellation')\n",
    "plt.show()"
   ]
  },
  {
   "cell_type": "markdown",
   "metadata": {},
   "source": [
    "To gain more information, we will see cancellation based on **year and hotel type** in Ritz-Jager Hotel"
   ]
  },
  {
   "cell_type": "code",
   "execution_count": 39,
   "metadata": {},
   "outputs": [
    {
     "data": {
      "text/html": [
       "<div>\n",
       "<style scoped>\n",
       "    .dataframe tbody tr th:only-of-type {\n",
       "        vertical-align: middle;\n",
       "    }\n",
       "\n",
       "    .dataframe tbody tr th {\n",
       "        vertical-align: top;\n",
       "    }\n",
       "\n",
       "    .dataframe thead th {\n",
       "        text-align: right;\n",
       "    }\n",
       "</style>\n",
       "<table border=\"1\" class=\"dataframe\">\n",
       "  <thead>\n",
       "    <tr style=\"text-align: right;\">\n",
       "      <th></th>\n",
       "      <th>arrival_date_year</th>\n",
       "      <th>hotel_type</th>\n",
       "      <th>is_canceled</th>\n",
       "    </tr>\n",
       "  </thead>\n",
       "  <tbody>\n",
       "    <tr>\n",
       "      <td>0</td>\n",
       "      <td>2015</td>\n",
       "      <td>City Hotel</td>\n",
       "      <td>6004</td>\n",
       "    </tr>\n",
       "    <tr>\n",
       "      <td>1</td>\n",
       "      <td>2015</td>\n",
       "      <td>Resort Hotel</td>\n",
       "      <td>2138</td>\n",
       "    </tr>\n",
       "    <tr>\n",
       "      <td>2</td>\n",
       "      <td>2016</td>\n",
       "      <td>City Hotel</td>\n",
       "      <td>15407</td>\n",
       "    </tr>\n",
       "    <tr>\n",
       "      <td>3</td>\n",
       "      <td>2016</td>\n",
       "      <td>Resort Hotel</td>\n",
       "      <td>4930</td>\n",
       "    </tr>\n",
       "    <tr>\n",
       "      <td>4</td>\n",
       "      <td>2017</td>\n",
       "      <td>City Hotel</td>\n",
       "      <td>11691</td>\n",
       "    </tr>\n",
       "    <tr>\n",
       "      <td>5</td>\n",
       "      <td>2017</td>\n",
       "      <td>Resort Hotel</td>\n",
       "      <td>4054</td>\n",
       "    </tr>\n",
       "  </tbody>\n",
       "</table>\n",
       "</div>"
      ],
      "text/plain": [
       "   arrival_date_year    hotel_type  is_canceled\n",
       "0               2015    City Hotel         6004\n",
       "1               2015  Resort Hotel         2138\n",
       "2               2016    City Hotel        15407\n",
       "3               2016  Resort Hotel         4930\n",
       "4               2017    City Hotel        11691\n",
       "5               2017  Resort Hotel         4054"
      ]
     },
     "execution_count": 39,
     "metadata": {},
     "output_type": "execute_result"
    }
   ],
   "source": [
    "canceled_year = canceled_year.groupby(['arrival_date_year','hotel_type']).is_canceled.count().reset_index()\n",
    "canceled_year"
   ]
  },
  {
   "cell_type": "markdown",
   "metadata": {},
   "source": [
    "**INTERPRETATION**:\n",
    "<br> Based on the result, we can know that there are **44224 booking cancellation** which **dominate by City Hotel** especially in year **2016 and 2017**. </br>"
   ]
  },
  {
   "cell_type": "markdown",
   "metadata": {},
   "source": [
    "## Which month has the highest number of cancellations?"
   ]
  },
  {
   "cell_type": "markdown",
   "metadata": {},
   "source": [
    "Research from Hotel Management, shows that cancellation rate are calculated based on date arrival not **booking day**. We will use **arrival_date_month** and **is_canceled** to know in what time, most cancellation_occur. "
   ]
  },
  {
   "cell_type": "code",
   "execution_count": 40,
   "metadata": {},
   "outputs": [
    {
     "data": {
      "text/html": [
       "<div>\n",
       "<style scoped>\n",
       "    .dataframe tbody tr th:only-of-type {\n",
       "        vertical-align: middle;\n",
       "    }\n",
       "\n",
       "    .dataframe tbody tr th {\n",
       "        vertical-align: top;\n",
       "    }\n",
       "\n",
       "    .dataframe thead th {\n",
       "        text-align: right;\n",
       "    }\n",
       "</style>\n",
       "<table border=\"1\" class=\"dataframe\">\n",
       "  <thead>\n",
       "    <tr style=\"text-align: right;\">\n",
       "      <th></th>\n",
       "      <th>arrival_date_month</th>\n",
       "      <th>is_canceled</th>\n",
       "    </tr>\n",
       "  </thead>\n",
       "  <tbody>\n",
       "    <tr>\n",
       "      <td>0</td>\n",
       "      <td>August</td>\n",
       "      <td>5239</td>\n",
       "    </tr>\n",
       "    <tr>\n",
       "      <td>1</td>\n",
       "      <td>July</td>\n",
       "      <td>4742</td>\n",
       "    </tr>\n",
       "    <tr>\n",
       "      <td>2</td>\n",
       "      <td>May</td>\n",
       "      <td>4677</td>\n",
       "    </tr>\n",
       "    <tr>\n",
       "      <td>3</td>\n",
       "      <td>June</td>\n",
       "      <td>4535</td>\n",
       "    </tr>\n",
       "    <tr>\n",
       "      <td>4</td>\n",
       "      <td>April</td>\n",
       "      <td>4524</td>\n",
       "    </tr>\n",
       "    <tr>\n",
       "      <td>5</td>\n",
       "      <td>October</td>\n",
       "      <td>4246</td>\n",
       "    </tr>\n",
       "    <tr>\n",
       "      <td>6</td>\n",
       "      <td>September</td>\n",
       "      <td>4116</td>\n",
       "    </tr>\n",
       "    <tr>\n",
       "      <td>7</td>\n",
       "      <td>March</td>\n",
       "      <td>3149</td>\n",
       "    </tr>\n",
       "    <tr>\n",
       "      <td>8</td>\n",
       "      <td>February</td>\n",
       "      <td>2696</td>\n",
       "    </tr>\n",
       "    <tr>\n",
       "      <td>9</td>\n",
       "      <td>December</td>\n",
       "      <td>2371</td>\n",
       "    </tr>\n",
       "    <tr>\n",
       "      <td>10</td>\n",
       "      <td>November</td>\n",
       "      <td>2122</td>\n",
       "    </tr>\n",
       "    <tr>\n",
       "      <td>11</td>\n",
       "      <td>January</td>\n",
       "      <td>1807</td>\n",
       "    </tr>\n",
       "  </tbody>\n",
       "</table>\n",
       "</div>"
      ],
      "text/plain": [
       "   arrival_date_month  is_canceled\n",
       "0              August         5239\n",
       "1                July         4742\n",
       "2                 May         4677\n",
       "3                June         4535\n",
       "4               April         4524\n",
       "5             October         4246\n",
       "6           September         4116\n",
       "7               March         3149\n",
       "8            February         2696\n",
       "9            December         2371\n",
       "10           November         2122\n",
       "11            January         1807"
      ]
     },
     "execution_count": 40,
     "metadata": {},
     "output_type": "execute_result"
    }
   ],
   "source": [
    "#Create new dataframe that consists of arrival month, hotel, and canceled condition\n",
    "cancellation_month = df[['arrival_date_month','hotel_type','is_canceled']]\n",
    "#Create condition where all data in new df have cancel status\n",
    "cancellation_month = cancellation_month[cancellation_month['is_canceled'] == 1]\n",
    "#Groupby cancellation based on month and total rows\n",
    "canceled = cancellation_month.groupby('arrival_date_month').is_canceled.count().sort_values(ascending = False).reset_index()\n",
    "canceled\n"
   ]
  },
  {
   "cell_type": "markdown",
   "metadata": {},
   "source": [
    "Lets take a look at **the bar graph** to know more!"
   ]
  },
  {
   "cell_type": "code",
   "execution_count": 41,
   "metadata": {},
   "outputs": [
    {
     "data": {
      "image/png": "[encoded data removed]",
      "text/plain": [
       "<Figure size 432x288 with 1 Axes>"
      ]
     },
     "metadata": {},
     "output_type": "display_data"
    }
   ],
   "source": [
    "plt.barh(canceled['arrival_date_month'],canceled['is_canceled'])\n",
    "plt.title('Highest Number Of Cancellations')\n",
    "plt.legend(['Number Cancellations'])\n",
    "plt.show()"
   ]
  },
  {
   "cell_type": "code",
   "execution_count": 42,
   "metadata": {
    "scrolled": true
   },
   "outputs": [
    {
     "data": {
      "text/html": [
       "<div>\n",
       "<style scoped>\n",
       "    .dataframe tbody tr th:only-of-type {\n",
       "        vertical-align: middle;\n",
       "    }\n",
       "\n",
       "    .dataframe tbody tr th {\n",
       "        vertical-align: top;\n",
       "    }\n",
       "\n",
       "    .dataframe thead th {\n",
       "        text-align: right;\n",
       "    }\n",
       "</style>\n",
       "<table border=\"1\" class=\"dataframe\">\n",
       "  <thead>\n",
       "    <tr style=\"text-align: right;\">\n",
       "      <th></th>\n",
       "      <th>arrival_date_month</th>\n",
       "      <th>hotel_type</th>\n",
       "      <th>is_canceled</th>\n",
       "    </tr>\n",
       "  </thead>\n",
       "  <tbody>\n",
       "    <tr>\n",
       "      <td>0</td>\n",
       "      <td>May</td>\n",
       "      <td>City Hotel</td>\n",
       "      <td>3653</td>\n",
       "    </tr>\n",
       "    <tr>\n",
       "      <td>1</td>\n",
       "      <td>August</td>\n",
       "      <td>City Hotel</td>\n",
       "      <td>3602</td>\n",
       "    </tr>\n",
       "    <tr>\n",
       "      <td>2</td>\n",
       "      <td>June</td>\n",
       "      <td>City Hotel</td>\n",
       "      <td>3528</td>\n",
       "    </tr>\n",
       "    <tr>\n",
       "      <td>3</td>\n",
       "      <td>April</td>\n",
       "      <td>City Hotel</td>\n",
       "      <td>3465</td>\n",
       "    </tr>\n",
       "    <tr>\n",
       "      <td>4</td>\n",
       "      <td>July</td>\n",
       "      <td>City Hotel</td>\n",
       "      <td>3306</td>\n",
       "    </tr>\n",
       "    <tr>\n",
       "      <td>5</td>\n",
       "      <td>October</td>\n",
       "      <td>City Hotel</td>\n",
       "      <td>3268</td>\n",
       "    </tr>\n",
       "    <tr>\n",
       "      <td>6</td>\n",
       "      <td>September</td>\n",
       "      <td>City Hotel</td>\n",
       "      <td>3110</td>\n",
       "    </tr>\n",
       "    <tr>\n",
       "      <td>7</td>\n",
       "      <td>March</td>\n",
       "      <td>City Hotel</td>\n",
       "      <td>2386</td>\n",
       "    </tr>\n",
       "    <tr>\n",
       "      <td>8</td>\n",
       "      <td>February</td>\n",
       "      <td>City Hotel</td>\n",
       "      <td>1901</td>\n",
       "    </tr>\n",
       "    <tr>\n",
       "      <td>9</td>\n",
       "      <td>December</td>\n",
       "      <td>City Hotel</td>\n",
       "      <td>1740</td>\n",
       "    </tr>\n",
       "    <tr>\n",
       "      <td>10</td>\n",
       "      <td>November</td>\n",
       "      <td>City Hotel</td>\n",
       "      <td>1661</td>\n",
       "    </tr>\n",
       "    <tr>\n",
       "      <td>11</td>\n",
       "      <td>August</td>\n",
       "      <td>Resort Hotel</td>\n",
       "      <td>1637</td>\n",
       "    </tr>\n",
       "    <tr>\n",
       "      <td>12</td>\n",
       "      <td>January</td>\n",
       "      <td>City Hotel</td>\n",
       "      <td>1482</td>\n",
       "    </tr>\n",
       "    <tr>\n",
       "      <td>13</td>\n",
       "      <td>July</td>\n",
       "      <td>Resort Hotel</td>\n",
       "      <td>1436</td>\n",
       "    </tr>\n",
       "    <tr>\n",
       "      <td>14</td>\n",
       "      <td>April</td>\n",
       "      <td>Resort Hotel</td>\n",
       "      <td>1059</td>\n",
       "    </tr>\n",
       "    <tr>\n",
       "      <td>15</td>\n",
       "      <td>May</td>\n",
       "      <td>Resort Hotel</td>\n",
       "      <td>1024</td>\n",
       "    </tr>\n",
       "    <tr>\n",
       "      <td>16</td>\n",
       "      <td>June</td>\n",
       "      <td>Resort Hotel</td>\n",
       "      <td>1007</td>\n",
       "    </tr>\n",
       "    <tr>\n",
       "      <td>17</td>\n",
       "      <td>September</td>\n",
       "      <td>Resort Hotel</td>\n",
       "      <td>1006</td>\n",
       "    </tr>\n",
       "    <tr>\n",
       "      <td>18</td>\n",
       "      <td>October</td>\n",
       "      <td>Resort Hotel</td>\n",
       "      <td>978</td>\n",
       "    </tr>\n",
       "    <tr>\n",
       "      <td>19</td>\n",
       "      <td>February</td>\n",
       "      <td>Resort Hotel</td>\n",
       "      <td>795</td>\n",
       "    </tr>\n",
       "    <tr>\n",
       "      <td>20</td>\n",
       "      <td>March</td>\n",
       "      <td>Resort Hotel</td>\n",
       "      <td>763</td>\n",
       "    </tr>\n",
       "    <tr>\n",
       "      <td>21</td>\n",
       "      <td>December</td>\n",
       "      <td>Resort Hotel</td>\n",
       "      <td>631</td>\n",
       "    </tr>\n",
       "    <tr>\n",
       "      <td>22</td>\n",
       "      <td>November</td>\n",
       "      <td>Resort Hotel</td>\n",
       "      <td>461</td>\n",
       "    </tr>\n",
       "    <tr>\n",
       "      <td>23</td>\n",
       "      <td>January</td>\n",
       "      <td>Resort Hotel</td>\n",
       "      <td>325</td>\n",
       "    </tr>\n",
       "  </tbody>\n",
       "</table>\n",
       "</div>"
      ],
      "text/plain": [
       "   arrival_date_month    hotel_type  is_canceled\n",
       "0                 May    City Hotel         3653\n",
       "1              August    City Hotel         3602\n",
       "2                June    City Hotel         3528\n",
       "3               April    City Hotel         3465\n",
       "4                July    City Hotel         3306\n",
       "5             October    City Hotel         3268\n",
       "6           September    City Hotel         3110\n",
       "7               March    City Hotel         2386\n",
       "8            February    City Hotel         1901\n",
       "9            December    City Hotel         1740\n",
       "10           November    City Hotel         1661\n",
       "11             August  Resort Hotel         1637\n",
       "12            January    City Hotel         1482\n",
       "13               July  Resort Hotel         1436\n",
       "14              April  Resort Hotel         1059\n",
       "15                May  Resort Hotel         1024\n",
       "16               June  Resort Hotel         1007\n",
       "17          September  Resort Hotel         1006\n",
       "18            October  Resort Hotel          978\n",
       "19           February  Resort Hotel          795\n",
       "20              March  Resort Hotel          763\n",
       "21           December  Resort Hotel          631\n",
       "22           November  Resort Hotel          461\n",
       "23            January  Resort Hotel          325"
      ]
     },
     "execution_count": 42,
     "metadata": {},
     "output_type": "execute_result"
    }
   ],
   "source": [
    "cancel_hotel = cancellation_month.groupby(['arrival_date_month','hotel_type']).is_canceled.count().sort_values(ascending = False).reset_index()\n",
    "cancel_hotel"
   ]
  },
  {
   "cell_type": "markdown",
   "metadata": {},
   "source": [
    "**INTERPRETATION**:\n",
    "<br> Based on the data, we can know that cancellation are mostly happen on Summer season such as, **August (5239), July (4742), May(4677), June(4535)**. Also, most of cancellation happen in **City Hotel**. </br>"
   ]
  },
  {
   "cell_type": "markdown",
   "metadata": {},
   "source": [
    "**Reference :**\n",
    "<br> 1. https://www.hotelmanagement.net/tech/study-cancelation-rate-at-40-as-otas-push-free-change-policy </br>\n",
    "<br> 2. https://www.investopedia.com/terms/a/average-daily-rate.asp#:~:text=The%20average%20daily%20rate%20is%20calculated%20by%20taking%20the%20average,and%20rooms%20occupied%20by%20staff. </br>"
   ]
  },
  {
   "cell_type": "code",
   "execution_count": null,
   "metadata": {},
   "outputs": [],
   "source": []
  }
 ],
 "metadata": {
  "kernelspec": {
   "display_name": "Python 3",
   "language": "python",
   "name": "python3"
  },
  "language_info": {
   "codemirror_mode": {
    "name": "ipython",
    "version": 3
   },
   "file_extension": ".py",
   "mimetype": "text/x-python",
   "name": "python",
   "nbconvert_exporter": "python",
   "pygments_lexer": "ipython3",
   "version": "3.7.4"
  },
  "toc": {
   "base_numbering": 1,
   "nav_menu": {},
   "number_sections": true,
   "sideBar": true,
   "skip_h1_title": false,
   "title_cell": "Table of Contents",
   "title_sidebar": "Contents",
   "toc_cell": false,
   "toc_position": {},
   "toc_section_display": true,
   "toc_window_display": false
  }
 },
 "nbformat": 4,
 "nbformat_minor": 2
}
